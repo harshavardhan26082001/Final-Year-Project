{
 "cells": [
  {
   "cell_type": "code",
   "execution_count": 1,
   "metadata": {},
   "outputs": [],
   "source": [
    "import numpy as np\n",
    "import pandas as pd\n",
    "from matplotlib import pyplot as plt, rcParams\n",
    "import seaborn as sns\n",
    "from sklearn.preprocessing import OneHotEncoder\n",
    "rcParams['figure.figsize'] = 11,10\n",
    "import joblib\n",
    "link = '../Datasets/transaction_data.csv'"
   ]
  },
  {
   "cell_type": "code",
   "execution_count": 32,
   "metadata": {},
   "outputs": [],
   "source": [
    "df = pd.read_csv(link)"
   ]
  },
  {
   "cell_type": "code",
   "execution_count": 33,
   "metadata": {},
   "outputs": [],
   "source": [
    "df = df.drop(['feature0','feature1', 'feature2', 'feature3', 'feature4','feature5'], axis=1)"
   ]
  },
  {
   "cell_type": "code",
   "execution_count": 34,
   "metadata": {},
   "outputs": [
    {
     "name": "stdout",
     "output_type": "stream",
     "text": [
      "<class 'pandas.core.frame.DataFrame'>\n",
      "RangeIndex: 37510 entries, 0 to 37509\n",
      "Data columns (total 10 columns):\n",
      " #   Column     Non-Null Count  Dtype  \n",
      "---  ------     --------------  -----  \n",
      " 0   age        37510 non-null  float64\n",
      " 1   cv_data    37510 non-null  float64\n",
      " 2   asv        37510 non-null  float64\n",
      " 3   cvv        37510 non-null  float64\n",
      " 4   Amount     37510 non-null  float64\n",
      " 5   CardNo     37510 non-null  float64\n",
      " 6   Label      37510 non-null  bool   \n",
      " 7   location   37510 non-null  object \n",
      " 8   card_type  37510 non-null  object \n",
      " 9   bank       37510 non-null  object \n",
      "dtypes: bool(1), float64(6), object(3)\n",
      "memory usage: 2.2+ MB\n"
     ]
    }
   ],
   "source": [
    "df.info()\n",
    "#checking feature data types"
   ]
  },
  {
   "cell_type": "code",
   "execution_count": 35,
   "metadata": {},
   "outputs": [
    {
     "data": {
      "text/html": [
       "<div>\n",
       "<style scoped>\n",
       "    .dataframe tbody tr th:only-of-type {\n",
       "        vertical-align: middle;\n",
       "    }\n",
       "\n",
       "    .dataframe tbody tr th {\n",
       "        vertical-align: top;\n",
       "    }\n",
       "\n",
       "    .dataframe thead th {\n",
       "        text-align: right;\n",
       "    }\n",
       "</style>\n",
       "<table border=\"1\" class=\"dataframe\">\n",
       "  <thead>\n",
       "    <tr style=\"text-align: right;\">\n",
       "      <th></th>\n",
       "      <th>age</th>\n",
       "      <th>cv_data</th>\n",
       "      <th>asv</th>\n",
       "      <th>cvv</th>\n",
       "      <th>Amount</th>\n",
       "      <th>CardNo</th>\n",
       "      <th>Label</th>\n",
       "      <th>location</th>\n",
       "      <th>card_type</th>\n",
       "      <th>bank</th>\n",
       "    </tr>\n",
       "  </thead>\n",
       "  <tbody>\n",
       "    <tr>\n",
       "      <th>0</th>\n",
       "      <td>113.0</td>\n",
       "      <td>104.0</td>\n",
       "      <td>2.0</td>\n",
       "      <td>1.0</td>\n",
       "      <td>8829.0</td>\n",
       "      <td>13473.0</td>\n",
       "      <td>True</td>\n",
       "      <td>Nyanga</td>\n",
       "      <td>Credit</td>\n",
       "      <td>First Capital Bank</td>\n",
       "    </tr>\n",
       "    <tr>\n",
       "      <th>1</th>\n",
       "      <td>55.0</td>\n",
       "      <td>17.0</td>\n",
       "      <td>5.0</td>\n",
       "      <td>3.0</td>\n",
       "      <td>283.0</td>\n",
       "      <td>16023.0</td>\n",
       "      <td>False</td>\n",
       "      <td>Harare</td>\n",
       "      <td>Credit</td>\n",
       "      <td>AgriBank</td>\n",
       "    </tr>\n",
       "    <tr>\n",
       "      <th>2</th>\n",
       "      <td>120.0</td>\n",
       "      <td>17.0</td>\n",
       "      <td>12.0</td>\n",
       "      <td>3.0</td>\n",
       "      <td>120.0</td>\n",
       "      <td>16023.0</td>\n",
       "      <td>False</td>\n",
       "      <td>Hwange</td>\n",
       "      <td>Credit</td>\n",
       "      <td>AgriBank</td>\n",
       "    </tr>\n",
       "    <tr>\n",
       "      <th>3</th>\n",
       "      <td>226.0</td>\n",
       "      <td>17.0</td>\n",
       "      <td>9.0</td>\n",
       "      <td>2.0</td>\n",
       "      <td>3193.0</td>\n",
       "      <td>16023.0</td>\n",
       "      <td>False</td>\n",
       "      <td>Nyanga</td>\n",
       "      <td>Credit</td>\n",
       "      <td>Steward Bank</td>\n",
       "    </tr>\n",
       "    <tr>\n",
       "      <th>4</th>\n",
       "      <td>226.0</td>\n",
       "      <td>17.0</td>\n",
       "      <td>9.0</td>\n",
       "      <td>2.0</td>\n",
       "      <td>3193.0</td>\n",
       "      <td>16023.0</td>\n",
       "      <td>False</td>\n",
       "      <td>Bulawayo</td>\n",
       "      <td>Debit</td>\n",
       "      <td>Cabs Bank</td>\n",
       "    </tr>\n",
       "  </tbody>\n",
       "</table>\n",
       "</div>"
      ],
      "text/plain": [
       "     age  cv_data   asv  cvv  Amount   CardNo  Label  location card_type  \\\n",
       "0  113.0    104.0   2.0  1.0  8829.0  13473.0   True    Nyanga    Credit   \n",
       "1   55.0     17.0   5.0  3.0   283.0  16023.0  False    Harare    Credit   \n",
       "2  120.0     17.0  12.0  3.0   120.0  16023.0  False    Hwange    Credit   \n",
       "3  226.0     17.0   9.0  2.0  3193.0  16023.0  False    Nyanga    Credit   \n",
       "4  226.0     17.0   9.0  2.0  3193.0  16023.0  False  Bulawayo     Debit   \n",
       "\n",
       "                 bank  \n",
       "0  First Capital Bank  \n",
       "1            AgriBank  \n",
       "2            AgriBank  \n",
       "3        Steward Bank  \n",
       "4           Cabs Bank  "
      ]
     },
     "execution_count": 35,
     "metadata": {},
     "output_type": "execute_result"
    }
   ],
   "source": [
    "df.head()\n",
    "#brief overview of the data"
   ]
  },
  {
   "cell_type": "code",
   "execution_count": 36,
   "metadata": {},
   "outputs": [
    {
     "data": {
      "text/plain": [
       "age          0\n",
       "cv_data      0\n",
       "asv          0\n",
       "cvv          0\n",
       "Amount       0\n",
       "CardNo       0\n",
       "Label        0\n",
       "location     0\n",
       "card_type    0\n",
       "bank         0\n",
       "dtype: int64"
      ]
     },
     "execution_count": 36,
     "metadata": {},
     "output_type": "execute_result"
    }
   ],
   "source": [
    "df.isnull().sum()\n",
    "#checking for missing values"
   ]
  },
  {
   "cell_type": "code",
   "execution_count": 37,
   "metadata": {},
   "outputs": [
    {
     "data": {
      "text/plain": [
       "FBC Bank              9237\n",
       "Cabs Bank             8162\n",
       "AgriBank              8100\n",
       "NMB Bank              2697\n",
       "Banc ABC              2647\n",
       "Steward Bank          2614\n",
       "CBZ Bank              1391\n",
       "First Capital Bank    1382\n",
       "Standard Bank         1280\n",
       "Name: bank, dtype: int64"
      ]
     },
     "execution_count": 37,
     "metadata": {},
     "output_type": "execute_result"
    }
   ],
   "source": [
    " df['bank'].value_counts()\n",
    "#checking the distrubuting of catagories in the bank attributes"
   ]
  },
  {
   "cell_type": "code",
   "execution_count": 38,
   "metadata": {},
   "outputs": [
    {
     "data": {
      "text/plain": [
       "Credit    25088\n",
       "Debit     12422\n",
       "Name: card_type, dtype: int64"
      ]
     },
     "execution_count": 38,
     "metadata": {},
     "output_type": "execute_result"
    }
   ],
   "source": [
    " df['card_type'].value_counts()\n",
    "    #checking the distrubution of catagories in the card type attributes"
   ]
  },
  {
   "cell_type": "code",
   "execution_count": 39,
   "metadata": {},
   "outputs": [
    {
     "data": {
      "text/plain": [
       "Harare       12475\n",
       "Bulawayo      7146\n",
       "Kadoma        5355\n",
       "Nyanga        3602\n",
       "Bindura       3560\n",
       "Kwekwe        1816\n",
       "Marondera     1780\n",
       "Hwange        1776\n",
       "Name: location, dtype: int64"
      ]
     },
     "execution_count": 39,
     "metadata": {},
     "output_type": "execute_result"
    }
   ],
   "source": [
    " df['location'].value_counts()\n",
    "    #checking the distrubution of catagories in the location attributes"
   ]
  },
  {
   "cell_type": "code",
   "execution_count": 40,
   "metadata": {},
   "outputs": [
    {
     "data": {
      "image/png": "[encoded data removed]",
      "text/plain": [
       "<Figure size 1080x720 with 1 Axes>"
      ]
     },
     "metadata": {
      "needs_background": "light"
     },
     "output_type": "display_data"
    }
   ],
   "source": [
    "#data visualisation\n",
    "sns.lmplot('bank', 'age', df, hue='Label', fit_reg=False)\n",
    "fig = plt.gcf()\n",
    "fig.set_size_inches(15,10)\n",
    "plt.show()"
   ]
  },
  {
   "cell_type": "code",
   "execution_count": 41,
   "metadata": {},
   "outputs": [
    {
     "data": {
      "text/plain": [
       "False    30400\n",
       "True      7110\n",
       "Name: Label, dtype: int64"
      ]
     },
     "execution_count": 41,
     "metadata": {},
     "output_type": "execute_result"
    }
   ],
   "source": [
    "df['Label'].value_counts()\n",
    "#checking the distrubution of catagories in the data label"
   ]
  },
  {
   "cell_type": "code",
   "execution_count": 42,
   "metadata": {},
   "outputs": [],
   "source": [
    "matrix = df.corr()"
   ]
  },
  {
   "cell_type": "code",
   "execution_count": 43,
   "metadata": {},
   "outputs": [
    {
     "data": {
      "text/plain": [
       "Label      1.000000\n",
       "asv        0.279840\n",
       "age        0.140879\n",
       "CardNo     0.020879\n",
       "cvv        0.006058\n",
       "cv_data   -0.027918\n",
       "Amount    -0.050214\n",
       "Name: Label, dtype: float64"
      ]
     },
     "execution_count": 43,
     "metadata": {},
     "output_type": "execute_result"
    }
   ],
   "source": [
    "#checking the correlation of features with respect to the label\n",
    "matrix['Label'].sort_values(ascending=False)"
   ]
  },
  {
   "cell_type": "code",
   "execution_count": 44,
   "metadata": {},
   "outputs": [
    {
     "data": {
      "text/plain": [
       "<matplotlib.axes._subplots.AxesSubplot at 0x1019b4d0>"
      ]
     },
     "execution_count": 44,
     "metadata": {},
     "output_type": "execute_result"
    },
    {
     "data": {
      "image/png": "[encoded data removed]",
      "text/plain": [
       "<Figure size 792x720 with 2 Axes>"
      ]
     },
     "metadata": {
      "needs_background": "light"
     },
     "output_type": "display_data"
    }
   ],
   "source": [
    "#plotting a correlation heat map\n",
    "sns.heatmap(matrix, vmax=0.8, square=True)"
   ]
  },
  {
   "cell_type": "code",
   "execution_count": 47,
   "metadata": {},
   "outputs": [],
   "source": [
    "#defing a data transformation pipeline\n",
    "\n",
    "from sklearn.pipeline import Pipeline\n",
    "from sklearn.compose import ColumnTransformer\n",
    "from sklearn.impute import SimpleImputer as Imputer\n",
    "from sklearn.preprocessing import StandardScaler\n",
    "num_pipe = Pipeline([\n",
    "('imputer', Imputer(strategy=\"median\")),\n",
    "('std_scaler', StandardScaler()),\n",
    "])\n",
    "\n",
    "pipe = ColumnTransformer([\n",
    "(\"num\", num_pipe, ['age', 'cv_data', 'asv', 'cvv', 'Amount', 'CardNo']),\n",
    "(\"cat\", OneHotEncoder(), ['card_type','location','bank'])\n",
    "])\n",
    "\n",
    "#exporting the data transformation pipeline\n",
    "#joblib.dump(pipe,'pipeline.pkl')"
   ]
  },
  {
   "cell_type": "code",
   "execution_count": 48,
   "metadata": {},
   "outputs": [
    {
     "name": "stdout",
     "output_type": "stream",
     "text": [
      "(37510, 9)\n"
     ]
    }
   ],
   "source": [
    "#separating the data label from the other features\n",
    "\n",
    "target = \"Label\"\n",
    "X = df.drop(target, axis=1)  #training set\n",
    "y = df[target]   #labels\n",
    "print(X.shape)\n",
    "#transforming the data\n",
    "pipe= pipe.fit(X)\n",
    "joblib.dump(pipe,'pipeline.pkl')\n",
    "X = pipe.transform(X)"
   ]
  },
  {
   "cell_type": "code",
   "execution_count": 49,
   "metadata": {},
   "outputs": [
    {
     "data": {
      "text/plain": [
       "(37510, 25)"
      ]
     },
     "execution_count": 49,
     "metadata": {},
     "output_type": "execute_result"
    }
   ],
   "source": [
    "X.shape\n"
   ]
  },
  {
   "cell_type": "code",
   "execution_count": 50,
   "metadata": {},
   "outputs": [
    {
     "data": {
      "text/plain": [
       "(37510,)"
      ]
     },
     "execution_count": 50,
     "metadata": {},
     "output_type": "execute_result"
    }
   ],
   "source": [
    "y.shape"
   ]
  },
  {
   "cell_type": "code",
   "execution_count": 51,
   "metadata": {},
   "outputs": [
    {
     "data": {
      "text/plain": [
       "0.2338815789473684"
      ]
     },
     "execution_count": 51,
     "metadata": {},
     "output_type": "execute_result"
    }
   ],
   "source": [
    "#defing the outlier fraction for the local Outlier Factor algorithm\n",
    "fraud = df[df['Label'] == 1]\n",
    "normal = df[df['Label'] == 0]\n",
    "outlier_fraction =  len(fraud) / float(len(normal))\n",
    "outlier_fraction"
   ]
  },
  {
   "cell_type": "code",
   "execution_count": 52,
   "metadata": {},
   "outputs": [],
   "source": [
    "from sklearn.metrics import classification_report, accuracy_score\n",
    "from sklearn.ensemble import IsolationForest, AdaBoostClassifier, RandomForestClassifier\n",
    "from sklearn.neighbors import LocalOutlierFactor, KNeighborsClassifier\n",
    "from sklearn.model_selection import train_test_split\n",
    "from sklearn.svm import OneClassSVM\n",
    "from sklearn.tree import DecisionTreeClassifier"
   ]
  },
  {
   "cell_type": "code",
   "execution_count": 53,
   "metadata": {},
   "outputs": [],
   "source": [
    "classifier_accuracy = {}\n"
   ]
  },
  {
   "cell_type": "code",
   "execution_count": 54,
   "metadata": {},
   "outputs": [],
   "source": [
    "#initializing the classification algorithms\n",
    "classifiers = {\n",
    "               'Local Outlier Factor': LocalOutlierFactor(n_neighbors=20, contamination=outlier_fraction, algorithm='auto', leaf_size=25, metric='minkowski'),\n",
    "               'Support Vector Machine': OneClassSVM(kernel='rbf', degree=3, gamma= 0.1, nu=0.05, max_iter=-1),\n",
    "               'Decision Tree Classifier':DecisionTreeClassifier( criterion='entropy',splitter=\"best\", max_leaf_nodes=15),\n",
    "               'Isolation Forest': IsolationForest(max_samples=len(X), contamination=outlier_fraction, random_state=1, verbose=0),\n",
    "               'Ada Boost Classifier':AdaBoostClassifier(),\n",
    "               'Random Forest Classifier':RandomForestClassifier(), \n",
    "               'KNeighbors Classifier': KNeighborsClassifier(5)\n",
    "               \n",
    "              }"
   ]
  },
  {
   "cell_type": "code",
   "execution_count": 55,
   "metadata": {
    "scrolled": false
   },
   "outputs": [
    {
     "name": "stdout",
     "output_type": "stream",
     "text": [
      "Local Outlier Factor:11945\n",
      "Accuracy Score: 0.6815515862436684\n",
      "              precision    recall  f1-score   support\n",
      "\n",
      "       False       0.82      0.78      0.80     30400\n",
      "        True       0.22      0.28      0.25      7110\n",
      "\n",
      "    accuracy                           0.68     37510\n",
      "   macro avg       0.52      0.53      0.52     37510\n",
      "weighted avg       0.71      0.68      0.69     37510\n",
      "\n",
      "-------------------------------------------------------------\n",
      "Support Vector Machine:8281\n",
      "Accuracy Score: 0.7792322047454012\n",
      "              precision    recall  f1-score   support\n",
      "\n",
      "       False       0.81      0.95      0.87     30400\n",
      "        True       0.19      0.05      0.08      7110\n",
      "\n",
      "    accuracy                           0.78     37510\n",
      "   macro avg       0.50      0.50      0.48     37510\n",
      "weighted avg       0.69      0.78      0.72     37510\n",
      "\n",
      "-------------------------------------------------------------\n",
      "Decision Tree Classifier:1881\n",
      "Accuracy Score: 0.8328445747800587\n",
      "              precision    recall  f1-score   support\n",
      "\n",
      "       False       0.87      0.94      0.90      9104\n",
      "        True       0.60      0.38      0.47      2149\n",
      "\n",
      "    accuracy                           0.83     11253\n",
      "   macro avg       0.73      0.66      0.68     11253\n",
      "weighted avg       0.81      0.83      0.82     11253\n",
      "\n",
      "-------------------------------------------------------------\n",
      "Isolation Forest:12561\n",
      "Accuracy Score: 0.665129298853639\n",
      "              precision    recall  f1-score   support\n",
      "\n",
      "       False       0.81      0.77      0.79     30400\n",
      "        True       0.19      0.23      0.21      7110\n",
      "\n",
      "    accuracy                           0.67     37510\n",
      "   macro avg       0.50      0.50      0.50     37510\n",
      "weighted avg       0.69      0.67      0.68     37510\n",
      "\n",
      "-------------------------------------------------------------\n",
      "Ada Boost Classifier:1812\n",
      "Accuracy Score: 0.8389762729938683\n",
      "              precision    recall  f1-score   support\n",
      "\n",
      "       False       0.86      0.96      0.91      9104\n",
      "        True       0.67      0.32      0.43      2149\n",
      "\n",
      "    accuracy                           0.84     11253\n",
      "   macro avg       0.76      0.64      0.67     11253\n",
      "weighted avg       0.82      0.84      0.82     11253\n",
      "\n",
      "-------------------------------------------------------------\n",
      "Random Forest Classifier:261\n",
      "Accuracy Score: 0.9768061850173287\n",
      "              precision    recall  f1-score   support\n",
      "\n",
      "       False       0.99      0.98      0.99      9104\n",
      "        True       0.92      0.97      0.94      2149\n",
      "\n",
      "    accuracy                           0.98     11253\n",
      "   macro avg       0.95      0.97      0.96     11253\n",
      "weighted avg       0.98      0.98      0.98     11253\n",
      "\n",
      "-------------------------------------------------------------\n",
      "KNeighbors Classifier:1950\n",
      "Accuracy Score: 0.826712876566249\n",
      "              precision    recall  f1-score   support\n",
      "\n",
      "       False       0.86      0.94      0.90      9104\n",
      "        True       0.57      0.37      0.45      2149\n",
      "\n",
      "    accuracy                           0.83     11253\n",
      "   macro avg       0.72      0.65      0.67     11253\n",
      "weighted avg       0.81      0.83      0.81     11253\n",
      "\n",
      "-------------------------------------------------------------\n"
     ]
    }
   ],
   "source": [
    "#fitting, training and evaluating each algorithm \n",
    "n_outliers = len(fraud)\n",
    "\n",
    "for i, (clf_name, clf) in enumerate(classifiers.items()):\n",
    "   \n",
    "    if clf_name == 'Local Outlier Factor':\n",
    "        y_pred = clf.fit_predict(X)\n",
    "        y_pred[y_pred ==1]=0\n",
    "        y_pred[y_pred ==-1]=1\n",
    "        n_errors = (y_pred !=y).sum()\n",
    "        print('{}:{}'.format(clf_name,n_errors))\n",
    "        print('Accuracy Score:',accuracy_score(y, y_pred))\n",
    "        print(classification_report(y, y_pred))\n",
    "        classifier_accuracy.update({clf_name:accuracy_score(y, y_pred)})\n",
    "    \n",
    "    \n",
    "    elif clf_name == 'Support Vector Machine':\n",
    "        clf.fit(X)\n",
    "        y_pred = clf.predict(X)\n",
    "        y_pred[y_pred ==1]=0\n",
    "        y_pred[y_pred ==-1]=1\n",
    "        n_errors = (y_pred !=y).sum()\n",
    "        print('{}:{}'.format(clf_name,n_errors))\n",
    "        print('Accuracy Score:',accuracy_score(y, y_pred))\n",
    "        print(classification_report(y, y_pred))\n",
    "        classifier_accuracy.update({clf_name:accuracy_score(y, y_pred)})\n",
    "    \n",
    "    \n",
    "    \n",
    "    elif clf_name == 'Decision Tree Classifier':\n",
    "        X_train, X_test, y_train, y_test = train_test_split(X, y, random_state=1, test_size=0.3)\n",
    "        clf = clf.fit(X_train, y_train)\n",
    "        y_pred = clf.predict(X_test)\n",
    "        n_errors = (y_pred !=y_test).sum()\n",
    "        print('{}:{}'.format(clf_name,n_errors))\n",
    "        print('Accuracy Score:',accuracy_score(y_test, y_pred))\n",
    "        print(classification_report(y_test, y_pred))\n",
    "        classifier_accuracy.update({clf_name:accuracy_score(y_test, y_pred)})\n",
    "        #exporting the prefered model\n",
    "        joblib.dump(clf,'fraud_detection_model.pkl')\n",
    "        x = clf\n",
    "    \n",
    "    elif clf_name == 'Ada Boost Classifier':\n",
    "        X_train, X_test, y_train, y_test = train_test_split(X, y, random_state=1, test_size=0.3)\n",
    "        clf = clf.fit(X_train, y_train)\n",
    "        y_pred = clf.predict(X_test)\n",
    "        n_errors = (y_pred !=y_test).sum()\n",
    "        print('{}:{}'.format(clf_name,n_errors))\n",
    "        print('Accuracy Score:',accuracy_score(y_test, y_pred))\n",
    "        print(classification_report(y_test, y_pred))\n",
    "        classifier_accuracy.update({clf_name:accuracy_score(y_test, y_pred)})\n",
    "\n",
    "        \n",
    "    elif clf_name == 'Random Forest Classifier':\n",
    "        X_train, X_test, y_train, y_test = train_test_split(X, y, random_state=1, test_size=0.3)\n",
    "        clf = DecisionTreeClassifier()\n",
    "        clf = clf.fit(X_train, y_train)\n",
    "        y_pred = clf.predict(X_test)\n",
    "        n_errors = (y_pred !=y_test).sum()\n",
    "        print('{}:{}'.format(clf_name,n_errors))\n",
    "        print('Accuracy Score:',accuracy_score(y_test, y_pred))\n",
    "        print(classification_report(y_test, y_pred))\n",
    "        classifier_accuracy.update({clf_name:accuracy_score(y_test, y_pred)})\n",
    "\n",
    "    elif clf_name == 'KNeighbors Classifier':\n",
    "        X_train, X_test, y_train, y_test = train_test_split(X, y, random_state=1, test_size=0.3)\n",
    "        clf = clf.fit(X_train, y_train)\n",
    "        y_pred = clf.predict(X_test)\n",
    "        n_errors = (y_pred !=y_test).sum()\n",
    "        print('{}:{}'.format(clf_name,n_errors))\n",
    "        print('Accuracy Score:',accuracy_score(y_test, y_pred))\n",
    "        print(classification_report(y_test, y_pred))\n",
    "        classifier_accuracy.update({clf_name:accuracy_score(y_test, y_pred)})\n",
    "        \n",
    "    else:\n",
    "        clf.fit(X)\n",
    "        score_pred = clf.decision_function(X)\n",
    "        y_pred = clf.predict(X)\n",
    "        y_pred[y_pred ==1]=0\n",
    "        y_pred[y_pred ==-1]=1\n",
    "        n_errors = (y_pred !=y).sum()\n",
    "        print('{}:{}'.format(clf_name,n_errors))\n",
    "        print('Accuracy Score:',accuracy_score(y, y_pred))\n",
    "        print(classification_report(y, y_pred))\n",
    "        classifier_accuracy.update({clf_name:accuracy_score(y, y_pred)})\n",
    "    print('-------------------------------------------------------------')"
   ]
  },
  {
   "cell_type": "code",
   "execution_count": 56,
   "metadata": {
    "scrolled": true
   },
   "outputs": [
    {
     "data": {
      "text/html": [
       "<div>\n",
       "<style scoped>\n",
       "    .dataframe tbody tr th:only-of-type {\n",
       "        vertical-align: middle;\n",
       "    }\n",
       "\n",
       "    .dataframe tbody tr th {\n",
       "        vertical-align: top;\n",
       "    }\n",
       "\n",
       "    .dataframe thead th {\n",
       "        text-align: right;\n",
       "    }\n",
       "</style>\n",
       "<table border=\"1\" class=\"dataframe\">\n",
       "  <thead>\n",
       "    <tr style=\"text-align: right;\">\n",
       "      <th></th>\n",
       "      <th>Classifier</th>\n",
       "      <th>Accuracy</th>\n",
       "    </tr>\n",
       "  </thead>\n",
       "  <tbody>\n",
       "    <tr>\n",
       "      <th>0</th>\n",
       "      <td>Local Outlier Factor</td>\n",
       "      <td>0.681552</td>\n",
       "    </tr>\n",
       "    <tr>\n",
       "      <th>1</th>\n",
       "      <td>Support Vector Machine</td>\n",
       "      <td>0.779232</td>\n",
       "    </tr>\n",
       "    <tr>\n",
       "      <th>2</th>\n",
       "      <td>Decision Tree Classifier</td>\n",
       "      <td>0.832845</td>\n",
       "    </tr>\n",
       "    <tr>\n",
       "      <th>3</th>\n",
       "      <td>Isolation Forest</td>\n",
       "      <td>0.665129</td>\n",
       "    </tr>\n",
       "    <tr>\n",
       "      <th>4</th>\n",
       "      <td>Ada Boost Classifier</td>\n",
       "      <td>0.838976</td>\n",
       "    </tr>\n",
       "    <tr>\n",
       "      <th>5</th>\n",
       "      <td>Random Forest Classifier</td>\n",
       "      <td>0.976806</td>\n",
       "    </tr>\n",
       "    <tr>\n",
       "      <th>6</th>\n",
       "      <td>KNeighbors Classifier</td>\n",
       "      <td>0.826713</td>\n",
       "    </tr>\n",
       "  </tbody>\n",
       "</table>\n",
       "</div>"
      ],
      "text/plain": [
       "                 Classifier  Accuracy\n",
       "0      Local Outlier Factor  0.681552\n",
       "1    Support Vector Machine  0.779232\n",
       "2  Decision Tree Classifier  0.832845\n",
       "3          Isolation Forest  0.665129\n",
       "4      Ada Boost Classifier  0.838976\n",
       "5  Random Forest Classifier  0.976806\n",
       "6     KNeighbors Classifier  0.826713"
      ]
     },
     "execution_count": 56,
     "metadata": {},
     "output_type": "execute_result"
    }
   ],
   "source": [
    "#creating a table of classifiers and thier accuracy\n",
    "ca = [[a,b] for a,b in classifier_accuracy.items()]\n",
    "ca = pd.DataFrame(ca, columns=['Classifier','Accuracy'])\n",
    "ca\n"
   ]
  },
  {
   "cell_type": "code",
   "execution_count": 57,
   "metadata": {
    "scrolled": true
   },
   "outputs": [
    {
     "data": {
      "image/png": "[encoded data removed]",
      "text/plain": [
       "<Figure size 792x720 with 1 Axes>"
      ]
     },
     "metadata": {
      "needs_background": "light"
     },
     "output_type": "display_data"
    }
   ],
   "source": [
    "#plotting classifiers and thier accuracy\n",
    "import seaborn as sns\n",
    "sns.set_color_codes('muted')\n",
    "sns.barplot(x='Accuracy', y='Classifier', data=ca, color='g')\n",
    "plt.xlabel('Accuracy %')\n",
    "plt.ylabel('Classifier ')\n",
    "plt.title('Classifier Accuracy')\n",
    "plt.show()"
   ]
  },
  {
   "cell_type": "code",
   "execution_count": null,
   "metadata": {},
   "outputs": [],
   "source": []
  }
 ],
 "metadata": {
  "kernelspec": {
   "display_name": "Python 3",
   "language": "python",
   "name": "python3"
  },
  "language_info": {
   "codemirror_mode": {
    "name": "ipython",
    "version": 3
   },
   "file_extension": ".py",
   "mimetype": "text/x-python",
   "name": "python",
   "nbconvert_exporter": "python",
   "pygments_lexer": "ipython3",
   "version": "3.7.2"
  }
 },
 "nbformat": 4,
 "nbformat_minor": 4
}
