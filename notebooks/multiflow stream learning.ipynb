{
 "cells": [
  {
   "cell_type": "code",
   "execution_count": 1,
   "id": "confidential-senator",
   "metadata": {},
   "outputs": [
    {
     "ename": "NameError",
     "evalue": "name 'pd' is not defined",
     "output_type": "error",
     "traceback": [
      "\u001b[1;31m---------------------------------------------------------------------------\u001b[0m",
      "\u001b[1;31mNameError\u001b[0m                                 Traceback (most recent call last)",
      "\u001b[1;32m<ipython-input-1-fd312e716c84>\u001b[0m in \u001b[0;36m<module>\u001b[1;34m\u001b[0m\n\u001b[0;32m     11\u001b[0m \u001b[1;33m\u001b[0m\u001b[0m\n\u001b[0;32m     12\u001b[0m \u001b[0mlink\u001b[0m \u001b[1;33m=\u001b[0m \u001b[1;34m'../Datasets/hit400Dataset.csv'\u001b[0m\u001b[1;33m\u001b[0m\u001b[1;33m\u001b[0m\u001b[0m\n\u001b[1;32m---> 13\u001b[1;33m \u001b[0mdf\u001b[0m \u001b[1;33m=\u001b[0m \u001b[0mpd\u001b[0m\u001b[1;33m.\u001b[0m\u001b[0mread_csv\u001b[0m\u001b[1;33m(\u001b[0m\u001b[0mlink\u001b[0m\u001b[1;33m)\u001b[0m\u001b[1;33m\u001b[0m\u001b[1;33m\u001b[0m\u001b[0m\n\u001b[0m\u001b[0;32m     14\u001b[0m \u001b[1;33m\u001b[0m\u001b[0m\n\u001b[0;32m     15\u001b[0m pipe = ColumnTransformer([\n",
      "\u001b[1;31mNameError\u001b[0m: name 'pd' is not defined"
     ]
    }
   ],
   "source": [
    "#defing a data transformation pipeline\n",
    "\n",
    "from sklearn.pipeline import Pipeline\n",
    "from sklearn.compose import ColumnTransformer\n",
    "from sklearn.impute import SimpleImputer as Imputer\n",
    "from sklearn.preprocessing import StandardScaler\n",
    "num_pipe = Pipeline([\n",
    "('imputer', Imputer(strategy=\"median\")),\n",
    "('std_scaler', StandardScaler()),\n",
    "])\n",
    "\n",
    "link = '../Datasets/hit400Dataset.csv'\n",
    "#df = pd.read_csv(link)\n",
    "\n",
    "pipe = ColumnTransformer([\n",
    "(\"num\", num_pipe, ['holder_age','account_age','avs','label', 'amount', 'card_number']),\n",
    "(\"cat\", OneHotEncoder(), ['card_type','location','bank'])\n",
    "])\n",
    "#df.head()\n",
    "\n",
    "\n",
    "from skmultiflow.data import FileStream\n",
    "from skmultiflow.trees import HoeffdingTreeClassifier\n",
    "from skmultiflow.evaluation import EvaluatePrequential\n",
    "\n",
    "pipe= pipe.fit(df)\n",
    "X = pipe.transform(X)\n",
    "\n",
    "# 1. Create a stream\n",
    "\n",
    "stream = FileStream(X)\n",
    "\n",
    "# 2. Instantiate the HoeffdingTreeClassifier\n",
    "ht = HoeffdingTreeClassifier()\n",
    "\n",
    "# 3. Setup the evaluator\n",
    "evaluator = EvaluatePrequential(pretrain_size=1000,\n",
    "                                 max_samples=10000,\n",
    "                                 output_file='results.csv')\n",
    "# 4. Run evaluation\n",
    "evaluator.evaluate(stream=stream, model=ht)"
   ]
  },
  {
   "cell_type": "code",
   "execution_count": 28,
   "id": "grave-monroe",
   "metadata": {},
   "outputs": [],
   "source": [
    "df = pd.read_csv(link)"
   ]
  },
  {
   "cell_type": "code",
   "execution_count": 30,
   "id": "conditional-labor",
   "metadata": {},
   "outputs": [
    {
     "name": "stdout",
     "output_type": "stream",
     "text": [
      "amount\n",
      "account_age\n",
      "holder_age\n",
      "account_balance\n",
      "transaction_time\n",
      "entry_type\n",
      "gender\n",
      "broswer\n",
      "avs\n",
      "cvv\n",
      "connection_type\n",
      "card_number\n",
      "account_type\n",
      "location\n",
      "bank\n",
      "label\n"
     ]
    }
   ],
   "source": [
    "target = 'label'\n",
    "X = df.drop(target, axis=1)\n",
    "y = df[target]\n",
    "#dataset = datasets.load_breast_cancer()\n",
    "#X, y = dataset.data, dataset.target\n",
    "data = df[:10].to_dict()\n",
    "for x in data:\n",
    "    print(x)"
   ]
  },
  {
   "cell_type": "code",
   "execution_count": 16,
   "id": "governmental-capability",
   "metadata": {},
   "outputs": [
    {
     "ename": "NameError",
     "evalue": "name 'stream' is not defined",
     "output_type": "error",
     "traceback": [
      "\u001b[1;31m---------------------------------------------------------------------------\u001b[0m",
      "\u001b[1;31mNameError\u001b[0m                                 Traceback (most recent call last)",
      "\u001b[1;32m<ipython-input-16-eba257f914d4>\u001b[0m in \u001b[0;36m<module>\u001b[1;34m\u001b[0m\n\u001b[1;32m----> 1\u001b[1;33m \u001b[0mdataset\u001b[0m \u001b[1;33m=\u001b[0m \u001b[0mstream\u001b[0m\u001b[1;33m.\u001b[0m\u001b[0miter_csv\u001b[0m\u001b[1;33m(\u001b[0m\u001b[0mlink\u001b[0m\u001b[1;33m,\u001b[0m \u001b[0mtarget\u001b[0m\u001b[1;33m=\u001b[0m\u001b[1;34m'HasDetections'\u001b[0m\u001b[1;33m)\u001b[0m\u001b[1;33m\u001b[0m\u001b[1;33m\u001b[0m\u001b[0m\n\u001b[0m\u001b[0;32m      2\u001b[0m \u001b[1;32mfor\u001b[0m \u001b[1;33m(\u001b[0m\u001b[0mi\u001b[0m\u001b[1;33m,\u001b[0m \u001b[1;33m(\u001b[0m\u001b[0mx\u001b[0m\u001b[1;33m,\u001b[0m \u001b[0my\u001b[0m\u001b[1;33m)\u001b[0m\u001b[1;33m)\u001b[0m \u001b[1;32min\u001b[0m \u001b[0menumerate\u001b[0m\u001b[1;33m(\u001b[0m\u001b[0mdf\u001b[0m\u001b[1;33m)\u001b[0m\u001b[1;33m:\u001b[0m\u001b[1;33m\u001b[0m\u001b[1;33m\u001b[0m\u001b[0m\n\u001b[0;32m      3\u001b[0m     \u001b[0mprint\u001b[0m\u001b[1;33m(\u001b[0m\u001b[0mi\u001b[0m\u001b[1;33m,\u001b[0m\u001b[0mx\u001b[0m\u001b[1;33m,\u001b[0m\u001b[0my\u001b[0m\u001b[1;33m)\u001b[0m\u001b[1;33m\u001b[0m\u001b[1;33m\u001b[0m\u001b[0m\n",
      "\u001b[1;31mNameError\u001b[0m: name 'stream' is not defined"
     ]
    }
   ],
   "source": [
    "dataset = stream.iter_csv(link, target='HasDetections')\n",
    "for (i, (x, y)) in enumerate(df):\n",
    "    print(i,x,y)\n"
   ]
  },
  {
   "cell_type": "code",
   "execution_count": null,
   "id": "fancy-april",
   "metadata": {},
   "outputs": [],
   "source": []
  }
 ],
 "metadata": {
  "kernelspec": {
   "display_name": "Python 3",
   "language": "python",
   "name": "python3"
  },
  "language_info": {
   "codemirror_mode": {
    "name": "ipython",
    "version": 3
   },
   "file_extension": ".py",
   "mimetype": "text/x-python",
   "name": "python",
   "nbconvert_exporter": "python",
   "pygments_lexer": "ipython3",
   "version": "3.8.0"
  }
 },
 "nbformat": 4,
 "nbformat_minor": 5
}
