{
 "cells": [
  {
   "cell_type": "code",
   "execution_count": 154,
   "metadata": {},
   "outputs": [],
   "source": [
    "import pandas as pd\n",
    "import numpy as np\n",
    "from sklearn.decomposition import PCA\n",
    "from sklearn.preprocessing import OneHotEncoder as encoder, StandardScaler as scaler\n",
    "import matplotlib.pyplot as plt\n",
    "from sklearn.preprocessing import LabelBinarizer\n",
    "\n",
    "\n",
    "link = '../Datasets/HIT400Dataset.csv'"
   ]
  },
  {
   "cell_type": "code",
   "execution_count": 155,
   "metadata": {},
   "outputs": [],
   "source": [
    "df = pd.read_csv(link)"
   ]
  },
  {
   "cell_type": "code",
   "execution_count": 156,
   "metadata": {},
   "outputs": [
    {
     "name": "stdout",
     "output_type": "stream",
     "text": [
      "<class 'pandas.core.frame.DataFrame'>\n",
      "RangeIndex: 21000 entries, 0 to 20999\n",
      "Data columns (total 17 columns):\n",
      " #   Column              Non-Null Count  Dtype \n",
      "---  ------              --------------  ----- \n",
      " 0   Unnamed: 0          21000 non-null  int64 \n",
      " 1   city                21000 non-null  object\n",
      " 2   country             21000 non-null  object\n",
      " 3   amount              21000 non-null  int64 \n",
      " 4   balance             21000 non-null  int64 \n",
      " 5   charge_type         21000 non-null  object\n",
      " 6   asv                 21000 non-null  int64 \n",
      " 7   cvv                 21000 non-null  int64 \n",
      " 8   number_of_items     21000 non-null  int64 \n",
      " 9   order_id            21000 non-null  int64 \n",
      " 10  cv_data             21000 non-null  int64 \n",
      " 11  class               21000 non-null  int64 \n",
      " 12  account_scheme      21000 non-null  object\n",
      " 13  age_of_account      21000 non-null  int64 \n",
      " 14  bank_swift_code     21000 non-null  object\n",
      " 15  date                21000 non-null  object\n",
      " 16  transaction_status  21000 non-null  int64 \n",
      "dtypes: int64(11), object(6)\n",
      "memory usage: 2.2+ MB\n"
     ]
    }
   ],
   "source": [
    "df.info()"
   ]
  },
  {
   "cell_type": "code",
   "execution_count": 157,
   "metadata": {},
   "outputs": [],
   "source": [
    "df = df.drop(['country','city','date','bank_swift_code'], axis=1)"
   ]
  },
  {
   "cell_type": "code",
   "execution_count": 158,
   "metadata": {},
   "outputs": [],
   "source": [
    "data = pd.get_dummies(df[['account_scheme','charge_type']])"
   ]
  },
  {
   "cell_type": "code",
   "execution_count": 159,
   "metadata": {},
   "outputs": [],
   "source": [
    "Df = df.drop(['account_scheme','charge_type'], axis=1)"
   ]
  },
  {
   "cell_type": "code",
   "execution_count": 160,
   "metadata": {},
   "outputs": [],
   "source": [
    "\n",
    "Df['account_scheme_Mastercard'] = data['account_scheme_Mastercard'].to_list()\n",
    "Df['account_scheme_Visa'] = data['account_scheme_Visa'].to_list()\n",
    "Df['charge_type_Credit'] = data['charge_type_Credit'].to_list()\n",
    "Df['charge_type_Debit'] = data['charge_type_Debit'].to_list()\n"
   ]
  },
  {
   "cell_type": "code",
   "execution_count": 161,
   "metadata": {},
   "outputs": [
    {
     "data": {
      "text/plain": [
       "Unnamed: 0                   0\n",
       "amount                       0\n",
       "balance                      0\n",
       "asv                          0\n",
       "cvv                          0\n",
       "number_of_items              0\n",
       "order_id                     0\n",
       "cv_data                      0\n",
       "class                        0\n",
       "age_of_account               0\n",
       "transaction_status           0\n",
       "account_scheme_Mastercard    0\n",
       "account_scheme_Visa          0\n",
       "charge_type_Credit           0\n",
       "charge_type_Debit            0\n",
       "dtype: int64"
      ]
     },
     "execution_count": 161,
     "metadata": {},
     "output_type": "execute_result"
    }
   ],
   "source": [
    "Df.isnull().sum()"
   ]
  },
  {
   "cell_type": "code",
   "execution_count": 162,
   "metadata": {},
   "outputs": [
    {
     "name": "stdout",
     "output_type": "stream",
     "text": [
      "<class 'pandas.core.frame.DataFrame'>\n",
      "RangeIndex: 21000 entries, 0 to 20999\n",
      "Data columns (total 15 columns):\n",
      " #   Column                     Non-Null Count  Dtype\n",
      "---  ------                     --------------  -----\n",
      " 0   Unnamed: 0                 21000 non-null  int64\n",
      " 1   amount                     21000 non-null  int64\n",
      " 2   balance                    21000 non-null  int64\n",
      " 3   asv                        21000 non-null  int64\n",
      " 4   cvv                        21000 non-null  int64\n",
      " 5   number_of_items            21000 non-null  int64\n",
      " 6   order_id                   21000 non-null  int64\n",
      " 7   cv_data                    21000 non-null  int64\n",
      " 8   class                      21000 non-null  int64\n",
      " 9   age_of_account             21000 non-null  int64\n",
      " 10  transaction_status         21000 non-null  int64\n",
      " 11  account_scheme_Mastercard  21000 non-null  int64\n",
      " 12  account_scheme_Visa        21000 non-null  int64\n",
      " 13  charge_type_Credit         21000 non-null  int64\n",
      " 14  charge_type_Debit          21000 non-null  int64\n",
      "dtypes: int64(15)\n",
      "memory usage: 2.4 MB\n"
     ]
    }
   ],
   "source": [
    "Df.info()"
   ]
  },
  {
   "cell_type": "code",
   "execution_count": 163,
   "metadata": {},
   "outputs": [
    {
     "data": {
      "text/plain": [
       "account_scheme_Credit        0\n",
       "account_scheme_Debit         0\n",
       "account_scheme_Mastercard    0\n",
       "account_scheme_Visa          0\n",
       "charge_type_Credit           0\n",
       "charge_type_Debit            0\n",
       "dtype: int64"
      ]
     },
     "execution_count": 163,
     "metadata": {},
     "output_type": "execute_result"
    }
   ],
   "source": [
    "df = Df.drop('Unnamed: 0',axis=1)\n",
    "data.isnull().sum()"
   ]
  },
  {
   "cell_type": "code",
   "execution_count": 164,
   "metadata": {},
   "outputs": [],
   "source": [
    "from sklearn.preprocessing import StandardScaler\n",
    "\n",
    "features = [c for c in df.columns.tolist() if c not in ['class']]\n",
    "\n",
    "x = df.loc[:, features].values\n",
    "\n",
    "y = df.loc[:, ['class']].values\n",
    "\n",
    "x = StandardScaler().fit_transform(x)"
   ]
  },
  {
   "cell_type": "code",
   "execution_count": 167,
   "metadata": {},
   "outputs": [],
   "source": [
    "pca = PCA(n_components=13)\n",
    "\n",
    "principalComponents = pca.fit_transform(x)\n",
    "\n",
    "principalDataframe = pd.DataFrame(data = principalComponents, columns = features)"
   ]
  },
  {
   "cell_type": "code",
   "execution_count": 168,
   "metadata": {},
   "outputs": [],
   "source": [
    "targetDataframe = df[['class']]\n",
    "\n",
    "newDataframe = pd.concat([principalDataframe, targetDataframe],axis = 1)"
   ]
  },
  {
   "cell_type": "code",
   "execution_count": 170,
   "metadata": {},
   "outputs": [
    {
     "data": {
      "image/png": "[encoded data removed]",
      "text/plain": [
       "<Figure size 792x720 with 1 Axes>"
      ]
     },
     "metadata": {
      "needs_background": "light"
     },
     "output_type": "display_data"
    }
   ],
   "source": [
    "percent_variance = np.round(pca.explained_variance_ratio_* 100, decimals =2)\n",
    "columns = features\n",
    "plt.bar(x= range(1,14), height=percent_variance, tick_label=columns)\n",
    "plt.ylabel('Percentate of Variance Explained')\n",
    "plt.xlabel('Principal Component')\n",
    "plt.title('PCA Scree Plot')\n",
    "plt.show()"
   ]
  },
  {
   "cell_type": "code",
   "execution_count": 173,
   "metadata": {},
   "outputs": [
    {
     "data": {
      "image/png": "[encoded data removed]",
      "text/plain": [
       "<Figure size 576x576 with 1 Axes>"
      ]
     },
     "metadata": {
      "needs_background": "light"
     },
     "output_type": "display_data"
    }
   ],
   "source": [
    "fig = plt.figure(figsize = (8,8))\n",
    "ax = fig.add_subplot(1,1,1) \n",
    "ax.set_xlabel('PC1')\n",
    "ax.set_ylabel('PC2')\n",
    "\n",
    "ax.set_title('Plot of PC1 vs PC2', fontsize = 20)\n",
    "\n",
    "targets = [1, 0]\n",
    "\n",
    "colors = ['r', 'g']\n",
    "\n",
    "for target, color in zip(targets,colors):\n",
    "    indicesToKeep = newDataframe['class'] == target\n",
    "    ax.scatter(newDataframe.loc[indicesToKeep, 'amount']\n",
    "               , newDataframe.loc[indicesToKeep, 'balance']\n",
    "               , c = color\n",
    "               , s = 50)\n",
    "    \n",
    "ax.legend(targets)\n",
    "ax.grid()"
   ]
  },
  {
   "cell_type": "code",
   "execution_count": 176,
   "metadata": {},
   "outputs": [],
   "source": [
    "newDataframe.to_csv('../Datasets/new_pca.csv')"
   ]
  },
  {
   "cell_type": "code",
   "execution_count": null,
   "metadata": {},
   "outputs": [],
   "source": []
  }
 ],
 "metadata": {
  "kernelspec": {
   "display_name": "Python 3",
   "language": "python",
   "name": "python3"
  },
  "language_info": {
   "codemirror_mode": {
    "name": "ipython",
    "version": 3
   },
   "file_extension": ".py",
   "mimetype": "text/x-python",
   "name": "python",
   "nbconvert_exporter": "python",
   "pygments_lexer": "ipython3",
   "version": "3.7.2"
  }
 },
 "nbformat": 4,
 "nbformat_minor": 4
}
