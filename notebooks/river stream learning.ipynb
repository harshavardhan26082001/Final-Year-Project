{
 "cells": [
  {
   "cell_type": "code",
   "execution_count": 10,
   "id": "confidential-senator",
   "metadata": {},
   "outputs": [],
   "source": [
    "import numpy as np\n",
    "from sklearn import datasets\n",
    "import pandas as pd\n",
    "from matplotlib import pyplot as plt, rcParams\n",
    "import seaborn as sns\n",
    "from sklearn.preprocessing import OneHotEncoder\n",
    "rcParams['figure.figsize'] = 11,10\n",
    "import joblib\n",
    "link = '../Datasets/hit400Dataset.csv'"
   ]
  },
  {
   "cell_type": "code",
   "execution_count": 2,
   "id": "grave-monroe",
   "metadata": {},
   "outputs": [],
   "source": [
    "df = pd.read_csv(link)"
   ]
  },
  {
   "cell_type": "code",
   "execution_count": 30,
   "id": "conditional-labor",
   "metadata": {},
   "outputs": [
    {
     "name": "stdout",
     "output_type": "stream",
     "text": [
      "amount\n",
      "account_age\n",
      "holder_age\n",
      "account_balance\n",
      "transaction_time\n",
      "entry_type\n",
      "gender\n",
      "broswer\n",
      "avs\n",
      "cvv\n",
      "connection_type\n",
      "card_number\n",
      "account_type\n",
      "location\n",
      "bank\n",
      "label\n"
     ]
    }
   ],
   "source": [
    "target = 'label'\n",
    "X = df.drop(target, axis=1)\n",
    "y = df[target]\n",
    "#dataset = datasets.load_breast_cancer()\n",
    "#X, y = dataset.data, dataset.target\n",
    "data = df[:10].to_dict()\n",
    "for x in data:\n",
    "    print(x)"
   ]
  },
  {
   "cell_type": "code",
   "execution_count": 21,
   "id": "governmental-capability",
   "metadata": {},
   "outputs": [
    {
     "name": "stdout",
     "output_type": "stream",
     "text": [
      "amount\n",
      "account_age\n",
      "holder_age\n",
      "account_balance\n",
      "transaction_time\n",
      "entry_type\n",
      "gender\n",
      "broswer\n",
      "avs\n",
      "cvv\n",
      "connection_type\n",
      "card_number\n",
      "account_type\n",
      "location\n",
      "bank\n"
     ]
    },
    {
     "data": {
      "text/plain": [
       "'b'"
      ]
     },
     "execution_count": 21,
     "metadata": {},
     "output_type": "execute_result"
    }
   ],
   "source": [
    "for xi, yi in zip(X, y):\n",
    "    #xi = dict(zip(dataset.feature_names, xi))\n",
    "    pass\n",
    "\n"
   ]
  },
  {
   "cell_type": "code",
   "execution_count": null,
   "id": "fancy-april",
   "metadata": {},
   "outputs": [],
   "source": []
  }
 ],
 "metadata": {
  "kernelspec": {
   "display_name": "Python 3",
   "language": "python",
   "name": "python3"
  },
  "language_info": {
   "codemirror_mode": {
    "name": "ipython",
    "version": 3
   },
   "file_extension": ".py",
   "mimetype": "text/x-python",
   "name": "python",
   "nbconvert_exporter": "python",
   "pygments_lexer": "ipython3",
   "version": "3.8.0"
  }
 },
 "nbformat": 4,
 "nbformat_minor": 5
}
