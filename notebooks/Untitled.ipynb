{
 "cells": [
  {
   "cell_type": "code",
   "execution_count": 20,
   "metadata": {},
   "outputs": [],
   "source": [
    "import pandas as pd\n",
    "import numpy as np\n",
    "from sklearn.preprocessing import StandardScaler\n",
    "import matplotlib.pyplot as plt\n",
    "link = '../Datasets/mydata.csv'"
   ]
  },
  {
   "cell_type": "code",
   "execution_count": 17,
   "metadata": {},
   "outputs": [],
   "source": [
    "df = pd.read_csv(link)"
   ]
  },
  {
   "cell_type": "code",
   "execution_count": 18,
   "metadata": {},
   "outputs": [
    {
     "name": "stdout",
     "output_type": "stream",
     "text": [
      "<class 'pandas.core.frame.DataFrame'>\n",
      "RangeIndex: 2814 entries, 0 to 2813\n",
      "Data columns (total 14 columns):\n",
      " #   Column           Non-Null Count  Dtype \n",
      "---  ------           --------------  ----- \n",
      " 0   city             2814 non-null   object\n",
      " 1   country          2814 non-null   object\n",
      " 2   amount           2814 non-null   int64 \n",
      " 3   balance          2814 non-null   int64 \n",
      " 4   charge_type      2814 non-null   object\n",
      " 5   asv              2814 non-null   int64 \n",
      " 6   cvv              2814 non-null   int64 \n",
      " 7   number_of_items  2814 non-null   int64 \n",
      " 8   order_id         2814 non-null   int64 \n",
      " 9   cv_data          2814 non-null   int64 \n",
      " 10  class            2814 non-null   int64 \n",
      " 11  account_type     2814 non-null   object\n",
      " 12  age_of_account   2814 non-null   int64 \n",
      " 13  date             2814 non-null   object\n",
      "dtypes: int64(9), object(5)\n",
      "memory usage: 252.9+ KB\n"
     ]
    }
   ],
   "source": [
    "df.info()"
   ]
  },
  {
   "cell_type": "code",
   "execution_count": 19,
   "metadata": {},
   "outputs": [
    {
     "data": {
      "text/html": [
       "<div>\n",
       "<style scoped>\n",
       "    .dataframe tbody tr th:only-of-type {\n",
       "        vertical-align: middle;\n",
       "    }\n",
       "\n",
       "    .dataframe tbody tr th {\n",
       "        vertical-align: top;\n",
       "    }\n",
       "\n",
       "    .dataframe thead th {\n",
       "        text-align: right;\n",
       "    }\n",
       "</style>\n",
       "<table border=\"1\" class=\"dataframe\">\n",
       "  <thead>\n",
       "    <tr style=\"text-align: right;\">\n",
       "      <th></th>\n",
       "      <th>city</th>\n",
       "      <th>country</th>\n",
       "      <th>amount</th>\n",
       "      <th>balance</th>\n",
       "      <th>charge_type</th>\n",
       "      <th>asv</th>\n",
       "      <th>cvv</th>\n",
       "      <th>number_of_items</th>\n",
       "      <th>order_id</th>\n",
       "      <th>cv_data</th>\n",
       "      <th>class</th>\n",
       "      <th>account_type</th>\n",
       "      <th>age_of_account</th>\n",
       "      <th>date</th>\n",
       "    </tr>\n",
       "  </thead>\n",
       "  <tbody>\n",
       "    <tr>\n",
       "      <th>0</th>\n",
       "      <td>Kwekwe</td>\n",
       "      <td>Zimbabwe</td>\n",
       "      <td>6192</td>\n",
       "      <td>15614</td>\n",
       "      <td>credit</td>\n",
       "      <td>1</td>\n",
       "      <td>1823</td>\n",
       "      <td>3</td>\n",
       "      <td>3968</td>\n",
       "      <td>0</td>\n",
       "      <td>1</td>\n",
       "      <td>credit card</td>\n",
       "      <td>1592</td>\n",
       "      <td>2019-02-02 00:00:00</td>\n",
       "    </tr>\n",
       "    <tr>\n",
       "      <th>1</th>\n",
       "      <td>Harare</td>\n",
       "      <td>Zimbabwe</td>\n",
       "      <td>16377</td>\n",
       "      <td>15335</td>\n",
       "      <td>credit</td>\n",
       "      <td>1</td>\n",
       "      <td>861</td>\n",
       "      <td>1</td>\n",
       "      <td>4718</td>\n",
       "      <td>1</td>\n",
       "      <td>0</td>\n",
       "      <td>credit card</td>\n",
       "      <td>542</td>\n",
       "      <td>2019-02-02 03:00:00</td>\n",
       "    </tr>\n",
       "    <tr>\n",
       "      <th>2</th>\n",
       "      <td>Bulawayo</td>\n",
       "      <td>Zimbabwe</td>\n",
       "      <td>696</td>\n",
       "      <td>8039</td>\n",
       "      <td>debt</td>\n",
       "      <td>1</td>\n",
       "      <td>170</td>\n",
       "      <td>4</td>\n",
       "      <td>4238</td>\n",
       "      <td>1</td>\n",
       "      <td>1</td>\n",
       "      <td>credit card</td>\n",
       "      <td>1070</td>\n",
       "      <td>2019-02-02 06:00:00</td>\n",
       "    </tr>\n",
       "    <tr>\n",
       "      <th>3</th>\n",
       "      <td>Bulawayo</td>\n",
       "      <td>Zimbabwe</td>\n",
       "      <td>19767</td>\n",
       "      <td>4776</td>\n",
       "      <td>debt</td>\n",
       "      <td>0</td>\n",
       "      <td>1959</td>\n",
       "      <td>2</td>\n",
       "      <td>2583</td>\n",
       "      <td>1</td>\n",
       "      <td>1</td>\n",
       "      <td>credit card</td>\n",
       "      <td>1828</td>\n",
       "      <td>2019-02-02 09:00:00</td>\n",
       "    </tr>\n",
       "    <tr>\n",
       "      <th>4</th>\n",
       "      <td>Harare</td>\n",
       "      <td>Zimbabwe</td>\n",
       "      <td>32632</td>\n",
       "      <td>11946</td>\n",
       "      <td>debt</td>\n",
       "      <td>1</td>\n",
       "      <td>1276</td>\n",
       "      <td>3</td>\n",
       "      <td>5016</td>\n",
       "      <td>0</td>\n",
       "      <td>1</td>\n",
       "      <td>credit card</td>\n",
       "      <td>1992</td>\n",
       "      <td>2019-02-02 12:00:00</td>\n",
       "    </tr>\n",
       "  </tbody>\n",
       "</table>\n",
       "</div>"
      ],
      "text/plain": [
       "       city   country  amount  balance charge_type  asv   cvv  \\\n",
       "0    Kwekwe  Zimbabwe    6192    15614      credit    1  1823   \n",
       "1    Harare  Zimbabwe   16377    15335      credit    1   861   \n",
       "2  Bulawayo  Zimbabwe     696     8039        debt    1   170   \n",
       "3  Bulawayo  Zimbabwe   19767     4776        debt    0  1959   \n",
       "4    Harare  Zimbabwe   32632    11946        debt    1  1276   \n",
       "\n",
       "   number_of_items  order_id  cv_data  class account_type  age_of_account  \\\n",
       "0                3      3968        0      1  credit card            1592   \n",
       "1                1      4718        1      0  credit card             542   \n",
       "2                4      4238        1      1  credit card            1070   \n",
       "3                2      2583        1      1  credit card            1828   \n",
       "4                3      5016        0      1  credit card            1992   \n",
       "\n",
       "                  date  \n",
       "0  2019-02-02 00:00:00  \n",
       "1  2019-02-02 03:00:00  \n",
       "2  2019-02-02 06:00:00  \n",
       "3  2019-02-02 09:00:00  \n",
       "4  2019-02-02 12:00:00  "
      ]
     },
     "execution_count": 19,
     "metadata": {},
     "output_type": "execute_result"
    }
   ],
   "source": [
    "df.head()"
   ]
  },
  {
   "cell_type": "code",
   "execution_count": 87,
   "metadata": {},
   "outputs": [
    {
     "data": {
      "text/plain": [
       "['PC1',\n",
       " 'PC2',\n",
       " 'PC3',\n",
       " 'PC4',\n",
       " 'PC5',\n",
       " 'PC6',\n",
       " 'PC7',\n",
       " 'PC8',\n",
       " 'PC9',\n",
       " 'PC10',\n",
       " 'PC11',\n",
       " 'PC12',\n",
       " 'PC13',\n",
       " 'PC14',\n",
       " 'PC15',\n",
       " 'PC16',\n",
       " 'PC17',\n",
       " 'PC18']"
      ]
     },
     "execution_count": 87,
     "metadata": {},
     "output_type": "execute_result"
    }
   ],
   "source": [
    "columns = [c for c in df.columns.to_list() if c not in ['Class','Unnamed: 0']]\n",
    "columns"
   ]
  },
  {
   "cell_type": "code",
   "execution_count": 91,
   "metadata": {},
   "outputs": [],
   "source": [
    "data = df[columns]"
   ]
  },
  {
   "cell_type": "code",
   "execution_count": 92,
   "metadata": {},
   "outputs": [
    {
     "data": {
      "text/plain": [
       "Index(['PC1', 'PC2', 'PC3', 'PC4', 'PC5', 'PC6', 'PC7', 'PC8', 'PC9', 'PC10',\n",
       "       'PC11', 'PC12', 'PC13', 'PC14', 'PC15', 'PC16', 'PC17', 'PC18'],\n",
       "      dtype='object')"
      ]
     },
     "execution_count": 92,
     "metadata": {},
     "output_type": "execute_result"
    }
   ],
   "source": [
    "data.columns"
   ]
  },
  {
   "cell_type": "code",
   "execution_count": 93,
   "metadata": {},
   "outputs": [],
   "source": [
    "scaler = StandardScaler().fit(data)\n",
    "data_std = scaler.inverse_transform(data)"
   ]
  },
  {
   "cell_type": "code",
   "execution_count": 96,
   "metadata": {},
   "outputs": [],
   "source": [
    "new = pd.DataFrame(data_std, columns = columns)"
   ]
  },
  {
   "cell_type": "code",
   "execution_count": 98,
   "metadata": {},
   "outputs": [
    {
     "data": {
      "text/plain": [
       "Index(['PC1', 'PC2', 'PC3', 'PC4', 'PC5', 'PC6', 'PC7', 'PC8', 'PC9', 'PC10',\n",
       "       'PC11', 'PC12', 'PC13', 'PC14', 'PC15', 'PC16', 'PC17', 'PC18'],\n",
       "      dtype='object')"
      ]
     },
     "execution_count": 98,
     "metadata": {},
     "output_type": "execute_result"
    }
   ],
   "source": [
    "new.columns"
   ]
  },
  {
   "cell_type": "code",
   "execution_count": 99,
   "metadata": {},
   "outputs": [],
   "source": [
    "new['Class'] = df['Class']"
   ]
  },
  {
   "cell_type": "code",
   "execution_count": 100,
   "metadata": {},
   "outputs": [
    {
     "data": {
      "text/html": [
       "<div>\n",
       "<style scoped>\n",
       "    .dataframe tbody tr th:only-of-type {\n",
       "        vertical-align: middle;\n",
       "    }\n",
       "\n",
       "    .dataframe tbody tr th {\n",
       "        vertical-align: top;\n",
       "    }\n",
       "\n",
       "    .dataframe thead th {\n",
       "        text-align: right;\n",
       "    }\n",
       "</style>\n",
       "<table border=\"1\" class=\"dataframe\">\n",
       "  <thead>\n",
       "    <tr style=\"text-align: right;\">\n",
       "      <th></th>\n",
       "      <th>PC1</th>\n",
       "      <th>PC2</th>\n",
       "      <th>PC3</th>\n",
       "      <th>PC4</th>\n",
       "      <th>PC5</th>\n",
       "      <th>PC6</th>\n",
       "      <th>PC7</th>\n",
       "      <th>PC8</th>\n",
       "      <th>PC9</th>\n",
       "      <th>PC10</th>\n",
       "      <th>PC11</th>\n",
       "      <th>PC12</th>\n",
       "      <th>PC13</th>\n",
       "      <th>PC14</th>\n",
       "      <th>PC15</th>\n",
       "      <th>PC16</th>\n",
       "      <th>PC17</th>\n",
       "      <th>PC18</th>\n",
       "      <th>Class</th>\n",
       "    </tr>\n",
       "  </thead>\n",
       "  <tbody>\n",
       "    <tr>\n",
       "      <th>0</th>\n",
       "      <td>-5.221450</td>\n",
       "      <td>-0.282993</td>\n",
       "      <td>-2.325171</td>\n",
       "      <td>0.336731</td>\n",
       "      <td>1.175352</td>\n",
       "      <td>0.627345</td>\n",
       "      <td>1.651493</td>\n",
       "      <td>0.769026</td>\n",
       "      <td>-0.408388</td>\n",
       "      <td>-0.153905</td>\n",
       "      <td>0.464682</td>\n",
       "      <td>0.731821</td>\n",
       "      <td>-1.366560</td>\n",
       "      <td>0.623888</td>\n",
       "      <td>0.246242</td>\n",
       "      <td>0.130555</td>\n",
       "      <td>-0.252484</td>\n",
       "      <td>0.255071</td>\n",
       "      <td>0</td>\n",
       "    </tr>\n",
       "    <tr>\n",
       "      <th>1</th>\n",
       "      <td>-5.194667</td>\n",
       "      <td>-0.137556</td>\n",
       "      <td>-0.823326</td>\n",
       "      <td>-0.619209</td>\n",
       "      <td>-0.265349</td>\n",
       "      <td>-1.002875</td>\n",
       "      <td>0.107806</td>\n",
       "      <td>0.806539</td>\n",
       "      <td>1.711428</td>\n",
       "      <td>0.050859</td>\n",
       "      <td>0.002961</td>\n",
       "      <td>-0.286304</td>\n",
       "      <td>-0.369915</td>\n",
       "      <td>0.128719</td>\n",
       "      <td>0.074068</td>\n",
       "      <td>-0.326583</td>\n",
       "      <td>-0.334120</td>\n",
       "      <td>0.233239</td>\n",
       "      <td>0</td>\n",
       "    </tr>\n",
       "    <tr>\n",
       "      <th>2</th>\n",
       "      <td>-5.887422</td>\n",
       "      <td>1.442774</td>\n",
       "      <td>2.647117</td>\n",
       "      <td>0.942626</td>\n",
       "      <td>-0.465722</td>\n",
       "      <td>-0.200738</td>\n",
       "      <td>0.197844</td>\n",
       "      <td>0.005203</td>\n",
       "      <td>-0.124002</td>\n",
       "      <td>-0.174634</td>\n",
       "      <td>-0.666763</td>\n",
       "      <td>0.376118</td>\n",
       "      <td>0.724920</td>\n",
       "      <td>-0.548854</td>\n",
       "      <td>-0.129177</td>\n",
       "      <td>-0.217286</td>\n",
       "      <td>-0.030586</td>\n",
       "      <td>-0.195425</td>\n",
       "      <td>0</td>\n",
       "    </tr>\n",
       "    <tr>\n",
       "      <th>3</th>\n",
       "      <td>-5.201025</td>\n",
       "      <td>-1.167545</td>\n",
       "      <td>-0.734201</td>\n",
       "      <td>-0.427930</td>\n",
       "      <td>-0.687691</td>\n",
       "      <td>0.637109</td>\n",
       "      <td>-0.607841</td>\n",
       "      <td>0.015695</td>\n",
       "      <td>-0.357413</td>\n",
       "      <td>-1.062468</td>\n",
       "      <td>-0.965042</td>\n",
       "      <td>0.735313</td>\n",
       "      <td>0.287974</td>\n",
       "      <td>0.341925</td>\n",
       "      <td>-0.022637</td>\n",
       "      <td>0.097039</td>\n",
       "      <td>-0.370890</td>\n",
       "      <td>-0.113698</td>\n",
       "      <td>0</td>\n",
       "    </tr>\n",
       "    <tr>\n",
       "      <th>4</th>\n",
       "      <td>-4.821635</td>\n",
       "      <td>1.352308</td>\n",
       "      <td>2.583916</td>\n",
       "      <td>0.003548</td>\n",
       "      <td>0.546032</td>\n",
       "      <td>-1.585428</td>\n",
       "      <td>1.057875</td>\n",
       "      <td>1.447790</td>\n",
       "      <td>0.827919</td>\n",
       "      <td>0.116987</td>\n",
       "      <td>-0.203904</td>\n",
       "      <td>-1.594778</td>\n",
       "      <td>0.875779</td>\n",
       "      <td>-0.597070</td>\n",
       "      <td>0.173169</td>\n",
       "      <td>0.402616</td>\n",
       "      <td>0.712372</td>\n",
       "      <td>-0.635308</td>\n",
       "      <td>0</td>\n",
       "    </tr>\n",
       "  </tbody>\n",
       "</table>\n",
       "</div>"
      ],
      "text/plain": [
       "        PC1       PC2       PC3       PC4       PC5       PC6       PC7  \\\n",
       "0 -5.221450 -0.282993 -2.325171  0.336731  1.175352  0.627345  1.651493   \n",
       "1 -5.194667 -0.137556 -0.823326 -0.619209 -0.265349 -1.002875  0.107806   \n",
       "2 -5.887422  1.442774  2.647117  0.942626 -0.465722 -0.200738  0.197844   \n",
       "3 -5.201025 -1.167545 -0.734201 -0.427930 -0.687691  0.637109 -0.607841   \n",
       "4 -4.821635  1.352308  2.583916  0.003548  0.546032 -1.585428  1.057875   \n",
       "\n",
       "        PC8       PC9      PC10      PC11      PC12      PC13      PC14  \\\n",
       "0  0.769026 -0.408388 -0.153905  0.464682  0.731821 -1.366560  0.623888   \n",
       "1  0.806539  1.711428  0.050859  0.002961 -0.286304 -0.369915  0.128719   \n",
       "2  0.005203 -0.124002 -0.174634 -0.666763  0.376118  0.724920 -0.548854   \n",
       "3  0.015695 -0.357413 -1.062468 -0.965042  0.735313  0.287974  0.341925   \n",
       "4  1.447790  0.827919  0.116987 -0.203904 -1.594778  0.875779 -0.597070   \n",
       "\n",
       "       PC15      PC16      PC17      PC18  Class  \n",
       "0  0.246242  0.130555 -0.252484  0.255071      0  \n",
       "1  0.074068 -0.326583 -0.334120  0.233239      0  \n",
       "2 -0.129177 -0.217286 -0.030586 -0.195425      0  \n",
       "3 -0.022637  0.097039 -0.370890 -0.113698      0  \n",
       "4  0.173169  0.402616  0.712372 -0.635308      0  "
      ]
     },
     "execution_count": 100,
     "metadata": {},
     "output_type": "execute_result"
    }
   ],
   "source": [
    "new.head()"
   ]
  },
  {
   "cell_type": "code",
   "execution_count": 102,
   "metadata": {},
   "outputs": [],
   "source": [
    "from matplotlib import pyplot as plt, rcParams\n",
    "rcParams['figure.figsize'] = 13,12"
   ]
  },
  {
   "cell_type": "code",
   "execution_count": 103,
   "metadata": {},
   "outputs": [
    {
     "data": {
      "text/plain": [
       "array([[<matplotlib.axes._subplots.AxesSubplot object at 0x0FBBD730>,\n",
       "        <matplotlib.axes._subplots.AxesSubplot object at 0x13E4AB90>,\n",
       "        <matplotlib.axes._subplots.AxesSubplot object at 0x0FBC2F10>,\n",
       "        <matplotlib.axes._subplots.AxesSubplot object at 0x1382AA30>],\n",
       "       [<matplotlib.axes._subplots.AxesSubplot object at 0x0F7B49B0>,\n",
       "        <matplotlib.axes._subplots.AxesSubplot object at 0x0F90EC90>,\n",
       "        <matplotlib.axes._subplots.AxesSubplot object at 0x0F93AAF0>,\n",
       "        <matplotlib.axes._subplots.AxesSubplot object at 0x0F95E950>],\n",
       "       [<matplotlib.axes._subplots.AxesSubplot object at 0x0F95EE90>,\n",
       "        <matplotlib.axes._subplots.AxesSubplot object at 0x0F984D90>,\n",
       "        <matplotlib.axes._subplots.AxesSubplot object at 0x135D89B0>,\n",
       "        <matplotlib.axes._subplots.AxesSubplot object at 0x0EB43810>],\n",
       "       [<matplotlib.axes._subplots.AxesSubplot object at 0x0F8CE670>,\n",
       "        <matplotlib.axes._subplots.AxesSubplot object at 0x0F9ADF70>,\n",
       "        <matplotlib.axes._subplots.AxesSubplot object at 0x0F9EEDD0>,\n",
       "        <matplotlib.axes._subplots.AxesSubplot object at 0x0FAE5C30>],\n",
       "       [<matplotlib.axes._subplots.AxesSubplot object at 0x13561FD0>,\n",
       "        <matplotlib.axes._subplots.AxesSubplot object at 0x1359EE30>,\n",
       "        <matplotlib.axes._subplots.AxesSubplot object at 0x13616C90>,\n",
       "        <matplotlib.axes._subplots.AxesSubplot object at 0x1368CAF0>]],\n",
       "      dtype=object)"
      ]
     },
     "execution_count": 103,
     "metadata": {},
     "output_type": "execute_result"
    },
    {
     "data": {
      "image/png": "[encoded data removed]",
      "text/plain": [
       "<Figure size 936x864 with 20 Axes>"
      ]
     },
     "metadata": {
      "needs_background": "light"
     },
     "output_type": "display_data"
    }
   ],
   "source": [
    "new.hist()"
   ]
  },
  {
   "cell_type": "code",
   "execution_count": 105,
   "metadata": {},
   "outputs": [],
   "source": [
    "new.to_csv('../Datasets/unPCA_data.csv')"
   ]
  },
  {
   "cell_type": "code",
   "execution_count": null,
   "metadata": {},
   "outputs": [],
   "source": []
  }
 ],
 "metadata": {
  "kernelspec": {
   "display_name": "Python 3",
   "language": "python",
   "name": "python3"
  },
  "language_info": {
   "codemirror_mode": {
    "name": "ipython",
    "version": 3
   },
   "file_extension": ".py",
   "mimetype": "text/x-python",
   "name": "python",
   "nbconvert_exporter": "python",
   "pygments_lexer": "ipython3",
   "version": "3.7.2"
  }
 },
 "nbformat": 4,
 "nbformat_minor": 4
}
