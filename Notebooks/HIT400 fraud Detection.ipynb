{
 "cells": [
  {
   "cell_type": "code",
   "execution_count": 1,
   "metadata": {},
   "outputs": [],
   "source": [
    "import numpy as np\n",
    "import pandas as pd\n",
    "from matplotlib import pyplot as plt, rcParams\n",
    "import seaborn as sns\n",
    "from sklearn.preprocessing import OneHotEncoder\n",
    "rcParams['figure.figsize'] = 11,10\n",
    "import joblib\n",
    "link = '../Datasets/hit400Dataset.csv'"
   ]
  },
  {
   "cell_type": "code",
   "execution_count": 2,
   "metadata": {},
   "outputs": [],
   "source": [
    "df = pd.read_csv(link)"
   ]
  },
  {
   "cell_type": "code",
   "execution_count": 3,
   "metadata": {},
   "outputs": [
    {
     "data": {
      "text/html": [
       "<div>\n",
       "<style scoped>\n",
       "    .dataframe tbody tr th:only-of-type {\n",
       "        vertical-align: middle;\n",
       "    }\n",
       "\n",
       "    .dataframe tbody tr th {\n",
       "        vertical-align: top;\n",
       "    }\n",
       "\n",
       "    .dataframe thead th {\n",
       "        text-align: right;\n",
       "    }\n",
       "</style>\n",
       "<table border=\"1\" class=\"dataframe\">\n",
       "  <thead>\n",
       "    <tr style=\"text-align: right;\">\n",
       "      <th></th>\n",
       "      <th>amount</th>\n",
       "      <th>account_age</th>\n",
       "      <th>holder_age</th>\n",
       "      <th>account_balance</th>\n",
       "      <th>transaction_time</th>\n",
       "      <th>entry_type</th>\n",
       "      <th>gender</th>\n",
       "      <th>broswer</th>\n",
       "      <th>avs</th>\n",
       "      <th>cvv</th>\n",
       "      <th>connection_type</th>\n",
       "      <th>card_number</th>\n",
       "      <th>account_type</th>\n",
       "      <th>location</th>\n",
       "      <th>bank</th>\n",
       "      <th>label</th>\n",
       "    </tr>\n",
       "  </thead>\n",
       "  <tbody>\n",
       "    <tr>\n",
       "      <th>0</th>\n",
       "      <td>7025</td>\n",
       "      <td>4030</td>\n",
       "      <td>53</td>\n",
       "      <td>1230</td>\n",
       "      <td>5</td>\n",
       "      <td>magnetic strip</td>\n",
       "      <td>female</td>\n",
       "      <td>Mozilla/5.0</td>\n",
       "      <td>n</td>\n",
       "      <td>6348</td>\n",
       "      <td>https</td>\n",
       "      <td>465</td>\n",
       "      <td>debit</td>\n",
       "      <td>Bulawayo</td>\n",
       "      <td>First Capital Bank</td>\n",
       "      <td>True</td>\n",
       "    </tr>\n",
       "    <tr>\n",
       "      <th>1</th>\n",
       "      <td>4438</td>\n",
       "      <td>5587</td>\n",
       "      <td>47</td>\n",
       "      <td>1663</td>\n",
       "      <td>10</td>\n",
       "      <td>online</td>\n",
       "      <td>male</td>\n",
       "      <td>Chrome/41.0.2272.89</td>\n",
       "      <td>y</td>\n",
       "      <td>2744</td>\n",
       "      <td>http</td>\n",
       "      <td>681</td>\n",
       "      <td>debit</td>\n",
       "      <td>Harare</td>\n",
       "      <td>Agribank</td>\n",
       "      <td>False</td>\n",
       "    </tr>\n",
       "    <tr>\n",
       "      <th>2</th>\n",
       "      <td>5271</td>\n",
       "      <td>7440</td>\n",
       "      <td>24</td>\n",
       "      <td>1602</td>\n",
       "      <td>10</td>\n",
       "      <td>online</td>\n",
       "      <td>female</td>\n",
       "      <td>lk/41.0.2272.89</td>\n",
       "      <td>n</td>\n",
       "      <td>5105</td>\n",
       "      <td>https</td>\n",
       "      <td>262</td>\n",
       "      <td>debit</td>\n",
       "      <td>Bulawayo</td>\n",
       "      <td>Steward Bank</td>\n",
       "      <td>False</td>\n",
       "    </tr>\n",
       "    <tr>\n",
       "      <th>3</th>\n",
       "      <td>7878</td>\n",
       "      <td>5776</td>\n",
       "      <td>51</td>\n",
       "      <td>2808</td>\n",
       "      <td>1</td>\n",
       "      <td>chip</td>\n",
       "      <td>female</td>\n",
       "      <td>Mozilla/5.0</td>\n",
       "      <td>y</td>\n",
       "      <td>2369</td>\n",
       "      <td>http</td>\n",
       "      <td>552</td>\n",
       "      <td>debit</td>\n",
       "      <td>Harare</td>\n",
       "      <td>BANC ABC</td>\n",
       "      <td>False</td>\n",
       "    </tr>\n",
       "    <tr>\n",
       "      <th>4</th>\n",
       "      <td>1339</td>\n",
       "      <td>6597</td>\n",
       "      <td>52</td>\n",
       "      <td>4526</td>\n",
       "      <td>10</td>\n",
       "      <td>chip</td>\n",
       "      <td>female</td>\n",
       "      <td>Chrome/41.0.2272.89</td>\n",
       "      <td>y</td>\n",
       "      <td>6225</td>\n",
       "      <td>https</td>\n",
       "      <td>297</td>\n",
       "      <td>debit</td>\n",
       "      <td>Rusape</td>\n",
       "      <td>Agribank</td>\n",
       "      <td>False</td>\n",
       "    </tr>\n",
       "  </tbody>\n",
       "</table>\n",
       "</div>"
      ],
      "text/plain": [
       "   amount  account_age  holder_age  account_balance  transaction_time  \\\n",
       "0    7025         4030          53             1230                 5   \n",
       "1    4438         5587          47             1663                10   \n",
       "2    5271         7440          24             1602                10   \n",
       "3    7878         5776          51             2808                 1   \n",
       "4    1339         6597          52             4526                10   \n",
       "\n",
       "       entry_type  gender              broswer avs   cvv connection_type  \\\n",
       "0  magnetic strip  female          Mozilla/5.0   n  6348           https   \n",
       "1          online    male  Chrome/41.0.2272.89   y  2744            http   \n",
       "2          online  female      lk/41.0.2272.89   n  5105           https   \n",
       "3            chip  female          Mozilla/5.0   y  2369            http   \n",
       "4            chip  female  Chrome/41.0.2272.89   y  6225           https   \n",
       "\n",
       "   card_number account_type  location                bank  label  \n",
       "0          465        debit  Bulawayo  First Capital Bank   True  \n",
       "1          681        debit    Harare            Agribank  False  \n",
       "2          262        debit  Bulawayo        Steward Bank  False  \n",
       "3          552        debit    Harare            BANC ABC  False  \n",
       "4          297        debit    Rusape            Agribank  False  "
      ]
     },
     "execution_count": 3,
     "metadata": {},
     "output_type": "execute_result"
    }
   ],
   "source": [
    "df.head()"
   ]
  },
  {
   "cell_type": "code",
   "execution_count": 4,
   "metadata": {},
   "outputs": [
    {
     "name": "stdout",
     "output_type": "stream",
     "text": [
      "<class 'pandas.core.frame.DataFrame'>\n",
      "RangeIndex: 35000 entries, 0 to 34999\n",
      "Data columns (total 16 columns):\n",
      " #   Column            Non-Null Count  Dtype \n",
      "---  ------            --------------  ----- \n",
      " 0   amount            35000 non-null  int64 \n",
      " 1   account_age       35000 non-null  int64 \n",
      " 2   holder_age        35000 non-null  int64 \n",
      " 3   account_balance   35000 non-null  int64 \n",
      " 4   transaction_time  35000 non-null  int64 \n",
      " 5   entry_type        35000 non-null  object\n",
      " 6   gender            35000 non-null  object\n",
      " 7   broswer           35000 non-null  object\n",
      " 8   avs               35000 non-null  object\n",
      " 9   cvv               35000 non-null  int64 \n",
      " 10  connection_type   35000 non-null  object\n",
      " 11  card_number       35000 non-null  int64 \n",
      " 12  account_type      35000 non-null  object\n",
      " 13  location          35000 non-null  object\n",
      " 14  bank              35000 non-null  object\n",
      " 15  label             35000 non-null  bool  \n",
      "dtypes: bool(1), int64(7), object(8)\n",
      "memory usage: 4.0+ MB\n"
     ]
    }
   ],
   "source": [
    "df.info()\n",
    "#checking feature data types"
   ]
  },
  {
   "cell_type": "code",
   "execution_count": null,
   "metadata": {},
   "outputs": [],
   "source": []
  },
  {
   "cell_type": "code",
   "execution_count": 5,
   "metadata": {},
   "outputs": [
    {
     "data": {
      "text/plain": [
       "amount              0\n",
       "account_age         0\n",
       "holder_age          0\n",
       "account_balance     0\n",
       "transaction_time    0\n",
       "entry_type          0\n",
       "gender              0\n",
       "broswer             0\n",
       "avs                 0\n",
       "cvv                 0\n",
       "connection_type     0\n",
       "card_number         0\n",
       "account_type        0\n",
       "location            0\n",
       "bank                0\n",
       "label               0\n",
       "dtype: int64"
      ]
     },
     "execution_count": 5,
     "metadata": {},
     "output_type": "execute_result"
    }
   ],
   "source": [
    "df.isnull().sum()\n",
    "#checking for missing values"
   ]
  },
  {
   "cell_type": "code",
   "execution_count": 6,
   "metadata": {},
   "outputs": [
    {
     "data": {
      "text/plain": [
       "Agribank              13580\n",
       "FBC Bank               4620\n",
       "Steward Bank           4480\n",
       "BANC ABC               4375\n",
       "CBZ Bank               4060\n",
       "First Capital Bank     3885\n",
       "Name: bank, dtype: int64"
      ]
     },
     "execution_count": 6,
     "metadata": {},
     "output_type": "execute_result"
    }
   ],
   "source": [
    " df['bank'].value_counts()\n",
    "#checking the distrubuting of catagories in the bank attributes"
   ]
  },
  {
   "cell_type": "code",
   "execution_count": 7,
   "metadata": {},
   "outputs": [
    {
     "ename": "KeyError",
     "evalue": "'card_type'",
     "output_type": "error",
     "traceback": [
      "\u001b[1;31m---------------------------------------------------------------------------\u001b[0m",
      "\u001b[1;31mKeyError\u001b[0m                                  Traceback (most recent call last)",
      "\u001b[1;32mc:\\users\\nyasha chizampeni\\appdata\\local\\programs\\python\\python38\\lib\\site-packages\\pandas\\core\\indexes\\base.py\u001b[0m in \u001b[0;36mget_loc\u001b[1;34m(self, key, method, tolerance)\u001b[0m\n\u001b[0;32m   3079\u001b[0m             \u001b[1;32mtry\u001b[0m\u001b[1;33m:\u001b[0m\u001b[1;33m\u001b[0m\u001b[1;33m\u001b[0m\u001b[0m\n\u001b[1;32m-> 3080\u001b[1;33m                 \u001b[1;32mreturn\u001b[0m \u001b[0mself\u001b[0m\u001b[1;33m.\u001b[0m\u001b[0m_engine\u001b[0m\u001b[1;33m.\u001b[0m\u001b[0mget_loc\u001b[0m\u001b[1;33m(\u001b[0m\u001b[0mcasted_key\u001b[0m\u001b[1;33m)\u001b[0m\u001b[1;33m\u001b[0m\u001b[1;33m\u001b[0m\u001b[0m\n\u001b[0m\u001b[0;32m   3081\u001b[0m             \u001b[1;32mexcept\u001b[0m \u001b[0mKeyError\u001b[0m \u001b[1;32mas\u001b[0m \u001b[0merr\u001b[0m\u001b[1;33m:\u001b[0m\u001b[1;33m\u001b[0m\u001b[1;33m\u001b[0m\u001b[0m\n",
      "\u001b[1;32mpandas\\_libs\\index.pyx\u001b[0m in \u001b[0;36mpandas._libs.index.IndexEngine.get_loc\u001b[1;34m()\u001b[0m\n",
      "\u001b[1;32mpandas\\_libs\\index.pyx\u001b[0m in \u001b[0;36mpandas._libs.index.IndexEngine.get_loc\u001b[1;34m()\u001b[0m\n",
      "\u001b[1;32mpandas\\_libs\\hashtable_class_helper.pxi\u001b[0m in \u001b[0;36mpandas._libs.hashtable.PyObjectHashTable.get_item\u001b[1;34m()\u001b[0m\n",
      "\u001b[1;32mpandas\\_libs\\hashtable_class_helper.pxi\u001b[0m in \u001b[0;36mpandas._libs.hashtable.PyObjectHashTable.get_item\u001b[1;34m()\u001b[0m\n",
      "\u001b[1;31mKeyError\u001b[0m: 'card_type'",
      "\nThe above exception was the direct cause of the following exception:\n",
      "\u001b[1;31mKeyError\u001b[0m                                  Traceback (most recent call last)",
      "\u001b[1;32m<ipython-input-7-35c8f20eb999>\u001b[0m in \u001b[0;36m<module>\u001b[1;34m\u001b[0m\n\u001b[1;32m----> 1\u001b[1;33m \u001b[0mdf\u001b[0m\u001b[1;33m[\u001b[0m\u001b[1;34m'card_type'\u001b[0m\u001b[1;33m]\u001b[0m\u001b[1;33m.\u001b[0m\u001b[0mvalue_counts\u001b[0m\u001b[1;33m(\u001b[0m\u001b[1;33m)\u001b[0m\u001b[1;33m\u001b[0m\u001b[1;33m\u001b[0m\u001b[0m\n\u001b[0m\u001b[0;32m      2\u001b[0m    \u001b[1;31m#checking the distrubution of catagories in the card type attributes\u001b[0m\u001b[1;33m\u001b[0m\u001b[1;33m\u001b[0m\u001b[1;33m\u001b[0m\u001b[0m\n",
      "\u001b[1;32mc:\\users\\nyasha chizampeni\\appdata\\local\\programs\\python\\python38\\lib\\site-packages\\pandas\\core\\frame.py\u001b[0m in \u001b[0;36m__getitem__\u001b[1;34m(self, key)\u001b[0m\n\u001b[0;32m   3022\u001b[0m             \u001b[1;32mif\u001b[0m \u001b[0mself\u001b[0m\u001b[1;33m.\u001b[0m\u001b[0mcolumns\u001b[0m\u001b[1;33m.\u001b[0m\u001b[0mnlevels\u001b[0m \u001b[1;33m>\u001b[0m \u001b[1;36m1\u001b[0m\u001b[1;33m:\u001b[0m\u001b[1;33m\u001b[0m\u001b[1;33m\u001b[0m\u001b[0m\n\u001b[0;32m   3023\u001b[0m                 \u001b[1;32mreturn\u001b[0m \u001b[0mself\u001b[0m\u001b[1;33m.\u001b[0m\u001b[0m_getitem_multilevel\u001b[0m\u001b[1;33m(\u001b[0m\u001b[0mkey\u001b[0m\u001b[1;33m)\u001b[0m\u001b[1;33m\u001b[0m\u001b[1;33m\u001b[0m\u001b[0m\n\u001b[1;32m-> 3024\u001b[1;33m             \u001b[0mindexer\u001b[0m \u001b[1;33m=\u001b[0m \u001b[0mself\u001b[0m\u001b[1;33m.\u001b[0m\u001b[0mcolumns\u001b[0m\u001b[1;33m.\u001b[0m\u001b[0mget_loc\u001b[0m\u001b[1;33m(\u001b[0m\u001b[0mkey\u001b[0m\u001b[1;33m)\u001b[0m\u001b[1;33m\u001b[0m\u001b[1;33m\u001b[0m\u001b[0m\n\u001b[0m\u001b[0;32m   3025\u001b[0m             \u001b[1;32mif\u001b[0m \u001b[0mis_integer\u001b[0m\u001b[1;33m(\u001b[0m\u001b[0mindexer\u001b[0m\u001b[1;33m)\u001b[0m\u001b[1;33m:\u001b[0m\u001b[1;33m\u001b[0m\u001b[1;33m\u001b[0m\u001b[0m\n\u001b[0;32m   3026\u001b[0m                 \u001b[0mindexer\u001b[0m \u001b[1;33m=\u001b[0m \u001b[1;33m[\u001b[0m\u001b[0mindexer\u001b[0m\u001b[1;33m]\u001b[0m\u001b[1;33m\u001b[0m\u001b[1;33m\u001b[0m\u001b[0m\n",
      "\u001b[1;32mc:\\users\\nyasha chizampeni\\appdata\\local\\programs\\python\\python38\\lib\\site-packages\\pandas\\core\\indexes\\base.py\u001b[0m in \u001b[0;36mget_loc\u001b[1;34m(self, key, method, tolerance)\u001b[0m\n\u001b[0;32m   3080\u001b[0m                 \u001b[1;32mreturn\u001b[0m \u001b[0mself\u001b[0m\u001b[1;33m.\u001b[0m\u001b[0m_engine\u001b[0m\u001b[1;33m.\u001b[0m\u001b[0mget_loc\u001b[0m\u001b[1;33m(\u001b[0m\u001b[0mcasted_key\u001b[0m\u001b[1;33m)\u001b[0m\u001b[1;33m\u001b[0m\u001b[1;33m\u001b[0m\u001b[0m\n\u001b[0;32m   3081\u001b[0m             \u001b[1;32mexcept\u001b[0m \u001b[0mKeyError\u001b[0m \u001b[1;32mas\u001b[0m \u001b[0merr\u001b[0m\u001b[1;33m:\u001b[0m\u001b[1;33m\u001b[0m\u001b[1;33m\u001b[0m\u001b[0m\n\u001b[1;32m-> 3082\u001b[1;33m                 \u001b[1;32mraise\u001b[0m \u001b[0mKeyError\u001b[0m\u001b[1;33m(\u001b[0m\u001b[0mkey\u001b[0m\u001b[1;33m)\u001b[0m \u001b[1;32mfrom\u001b[0m \u001b[0merr\u001b[0m\u001b[1;33m\u001b[0m\u001b[1;33m\u001b[0m\u001b[0m\n\u001b[0m\u001b[0;32m   3083\u001b[0m \u001b[1;33m\u001b[0m\u001b[0m\n\u001b[0;32m   3084\u001b[0m         \u001b[1;32mif\u001b[0m \u001b[0mtolerance\u001b[0m \u001b[1;32mis\u001b[0m \u001b[1;32mnot\u001b[0m \u001b[1;32mNone\u001b[0m\u001b[1;33m:\u001b[0m\u001b[1;33m\u001b[0m\u001b[1;33m\u001b[0m\u001b[0m\n",
      "\u001b[1;31mKeyError\u001b[0m: 'card_type'"
     ]
    }
   ],
   "source": [
    " df['tran_type'].value_counts()\n",
    "    #checking the distrubution of catagories in the card type attributes"
   ]
  },
  {
   "cell_type": "code",
   "execution_count": 8,
   "metadata": {},
   "outputs": [
    {
     "data": {
      "text/plain": [
       "Harare       12475\n",
       "Bulawayo      7146\n",
       "Kadoma        5355\n",
       "Nyanga        3602\n",
       "Bindura       3560\n",
       "Kwekwe        1816\n",
       "Marondera     1780\n",
       "Hwange        1776\n",
       "Name: location, dtype: int64"
      ]
     },
     "execution_count": 8,
     "metadata": {},
     "output_type": "execute_result"
    }
   ],
   "source": [
    " df['location'].value_counts()\n",
    "    #checking the distrubution of catagories in the location attributes"
   ]
  },
  {
   "cell_type": "code",
   "execution_count": 9,
   "metadata": {},
   "outputs": [
    {
     "name": "stderr",
     "output_type": "stream",
     "text": [
      "c:\\users\\nyasha chizampeni\\appdata\\local\\programs\\python\\python38\\lib\\site-packages\\seaborn\\_decorators.py:36: FutureWarning: Pass the following variables as keyword args: x, y, data. From version 0.12, the only valid positional argument will be `data`, and passing other arguments without an explicit keyword will result in an error or misinterpretation.\n",
      "  warnings.warn(\n"
     ]
    },
    {
     "data": {
      "image/png": "[encoded data removed]",
      "text/plain": [
       "<Figure size 1080x720 with 1 Axes>"
      ]
     },
     "metadata": {
      "needs_background": "light"
     },
     "output_type": "display_data"
    }
   ],
   "source": [
    "#data visualisation\n",
    "sns.lmplot('bank', 'age', df, hue='Label', fit_reg=False)\n",
    "fig = plt.gcf()\n",
    "fig.set_size_inches(15,10)\n",
    "plt.show()"
   ]
  },
  {
   "cell_type": "code",
   "execution_count": 10,
   "metadata": {},
   "outputs": [
    {
     "data": {
      "text/plain": [
       "False    30400\n",
       "True      7110\n",
       "Name: Label, dtype: int64"
      ]
     },
     "execution_count": 10,
     "metadata": {},
     "output_type": "execute_result"
    }
   ],
   "source": [
    "df['Label'].value_counts()\n",
    "#checking the distrubution of catagories in the data label"
   ]
  },
  {
   "cell_type": "code",
   "execution_count": 11,
   "metadata": {},
   "outputs": [],
   "source": [
    "matrix = df.corr()"
   ]
  },
  {
   "cell_type": "code",
   "execution_count": 12,
   "metadata": {},
   "outputs": [
    {
     "data": {
      "text/plain": [
       "Label     1.000000\n",
       "asv       0.279840\n",
       "age       0.140879\n",
       "CardNo    0.020879\n",
       "Amount   -0.050214\n",
       "Name: Label, dtype: float64"
      ]
     },
     "execution_count": 12,
     "metadata": {},
     "output_type": "execute_result"
    }
   ],
   "source": [
    "#checking the correlation of features with respect to the label\n",
    "matrix['Label'].sort_values(ascending=False)"
   ]
  },
  {
   "cell_type": "code",
   "execution_count": 13,
   "metadata": {},
   "outputs": [
    {
     "data": {
      "text/plain": [
       "<AxesSubplot:>"
      ]
     },
     "execution_count": 13,
     "metadata": {},
     "output_type": "execute_result"
    },
    {
     "data": {
      "image/png": "[encoded data removed]",
      "text/plain": [
       "<Figure size 792x720 with 2 Axes>"
      ]
     },
     "metadata": {
      "needs_background": "light"
     },
     "output_type": "display_data"
    }
   ],
   "source": [
    "#plotting a correlation heat map\n",
    "sns.heatmap(matrix, vmax=0.8, square=True)"
   ]
  },
  {
   "cell_type": "code",
   "execution_count": 14,
   "metadata": {},
   "outputs": [],
   "source": [
    "#defing a data transformation pipeline\n",
    "\n",
    "from sklearn.pipeline import Pipeline\n",
    "from sklearn.compose import ColumnTransformer\n",
    "from sklearn.impute import SimpleImputer as Imputer\n",
    "from sklearn.preprocessing import StandardScaler\n",
    "num_pipe = Pipeline([\n",
    "('imputer', Imputer(strategy=\"median\")),\n",
    "('std_scaler', StandardScaler()),\n",
    "])\n",
    "\n",
    "pipe = ColumnTransformer([\n",
    "(\"num\", num_pipe, ['holder_age','account_age','avs', 'amount', 'card_number']),\n",
    "(\"cat\", OneHotEncoder(), ['card_type','location','bank'])\n",
    "])\n",
    "\n",
    "#exporting the data transformation pipeline\n",
    "#joblib.dump(pipe,'pipeline.pkl')"
   ]
  },
  {
   "cell_type": "code",
   "execution_count": 15,
   "metadata": {},
   "outputs": [
    {
     "name": "stdout",
     "output_type": "stream",
     "text": [
      "         age   asv  Amount     CardNo  location card_type                bank\n",
      "0      113.0   2.0  8829.0    13473.0    Nyanga    Credit  First Capital Bank\n",
      "1       55.0   5.0   283.0    16023.0    Harare    Credit            AgriBank\n",
      "2      120.0  12.0   120.0    16023.0    Hwange    Credit            AgriBank\n",
      "3      226.0   9.0  3193.0    16023.0    Nyanga    Credit        Steward Bank\n",
      "4      226.0   9.0  3193.0    16023.0  Bulawayo     Debit           Cabs Bank\n",
      "...      ...   ...     ...        ...       ...       ...                 ...\n",
      "37505   82.0   7.0    16.0  6384795.0   Bindura    Credit           Cabs Bank\n",
      "37506   82.0   7.0    16.0  6384795.0    Hwange    Credit            AgriBank\n",
      "37507   82.0   7.0    16.0  6384795.0  Bulawayo    Credit        Steward Bank\n",
      "37508   82.0   7.0    16.0  6384795.0    Harare    Credit           Cabs Bank\n",
      "37509   92.0  11.0   206.0  6386283.0    Kadoma     Debit           Cabs Bank\n",
      "\n",
      "[37510 rows x 7 columns]\n"
     ]
    }
   ],
   "source": [
    "#separating the data label from the other features\n",
    "\n",
    "target = \"Label\"\n",
    "X = df.drop(target, axis=1)  #training set\n",
    "y = df[target]   #labels\n",
    "print(X)\n",
    "#transforming the data\n",
    "pipe= pipe.fit(X)\n",
    "#joblib.dump(pipe,'pipeline.pkl')\n",
    "X = pipe.transform(X)"
   ]
  },
  {
   "cell_type": "code",
   "execution_count": 16,
   "metadata": {},
   "outputs": [
    {
     "data": {
      "text/plain": [
       "(37510, 23)"
      ]
     },
     "execution_count": 16,
     "metadata": {},
     "output_type": "execute_result"
    }
   ],
   "source": [
    "X.shape\n"
   ]
  },
  {
   "cell_type": "code",
   "execution_count": 17,
   "metadata": {},
   "outputs": [
    {
     "data": {
      "text/plain": [
       "(37510,)"
      ]
     },
     "execution_count": 17,
     "metadata": {},
     "output_type": "execute_result"
    }
   ],
   "source": [
    "y.shape"
   ]
  },
  {
   "cell_type": "code",
   "execution_count": 18,
   "metadata": {},
   "outputs": [
    {
     "data": {
      "text/plain": [
       "0.2338815789473684"
      ]
     },
     "execution_count": 18,
     "metadata": {},
     "output_type": "execute_result"
    }
   ],
   "source": [
    "#defing the outlier fraction for the local Outlier Factor algorithm\n",
    "fraud = df[df['Label'] == 1]\n",
    "normal = df[df['Label'] == 0]\n",
    "outlier_fraction =  len(fraud) / float(len(normal))\n",
    "outlier_fraction"
   ]
  },
  {
   "cell_type": "code",
   "execution_count": 19,
   "metadata": {},
   "outputs": [],
   "source": [
    "from sklearn.metrics import classification_report, accuracy_score\n",
    "from sklearn.ensemble import IsolationForest, AdaBoostClassifier, RandomForestClassifier\n",
    "from sklearn.neighbors import LocalOutlierFactor, KNeighborsClassifier\n",
    "from sklearn.model_selection import train_test_split\n",
    "from sklearn.svm import OneClassSVM\n",
    "from sklearn.tree import DecisionTreeClassifier"
   ]
  },
  {
   "cell_type": "code",
   "execution_count": 20,
   "metadata": {},
   "outputs": [],
   "source": [
    "classifier_accuracy = {}\n"
   ]
  },
  {
   "cell_type": "code",
   "execution_count": 21,
   "metadata": {},
   "outputs": [],
   "source": [
    "#initializing the classification algorithms\n",
    "classifiers = {\n",
    "               'Local Outlier Factor': LocalOutlierFactor(n_neighbors=20, contamination=outlier_fraction, algorithm='auto', leaf_size=25, metric='minkowski'),\n",
    "               'Support Vector Machine': OneClassSVM(kernel='rbf', degree=3, gamma= 0.1, nu=0.05, max_iter=-1),\n",
    "               'Decision Tree Classifier':DecisionTreeClassifier( criterion='entropy',splitter=\"best\", max_leaf_nodes=15),\n",
    "               'Isolation Forest': IsolationForest(max_samples=len(X), contamination=outlier_fraction, random_state=1, verbose=0),\n",
    "               'Ada Boost Classifier':AdaBoostClassifier(),\n",
    "               'Random Forest Classifier':RandomForestClassifier(), \n",
    "               'KNeighbors Classifier': KNeighborsClassifier(5)\n",
    "               \n",
    "              }"
   ]
  },
  {
   "cell_type": "code",
   "execution_count": 22,
   "metadata": {
    "scrolled": false
   },
   "outputs": [
    {
     "name": "stdout",
     "output_type": "stream",
     "text": [
      "Local Outlier Factor:12489\n",
      "Accuracy Score: 0.6670487869901359\n",
      "              precision    recall  f1-score   support\n",
      "\n",
      "       False       0.81      0.77      0.79     30400\n",
      "        True       0.19      0.24      0.21      7110\n",
      "\n",
      "    accuracy                           0.67     37510\n",
      "   macro avg       0.50      0.50      0.50     37510\n",
      "weighted avg       0.69      0.67      0.68     37510\n",
      "\n",
      "-------------------------------------------------------------\n",
      "Support Vector Machine:8409\n",
      "Accuracy Score: 0.7758197813916289\n",
      "              precision    recall  f1-score   support\n",
      "\n",
      "       False       0.81      0.95      0.87     30400\n",
      "        True       0.15      0.04      0.06      7110\n",
      "\n",
      "    accuracy                           0.78     37510\n",
      "   macro avg       0.48      0.49      0.47     37510\n",
      "weighted avg       0.68      0.78      0.72     37510\n",
      "\n",
      "-------------------------------------------------------------\n",
      "Decision Tree Classifier:1897\n",
      "Accuracy Score: 0.8314227317159868\n",
      "              precision    recall  f1-score   support\n",
      "\n",
      "       False       0.86      0.94      0.90      9104\n",
      "        True       0.59      0.38      0.46      2149\n",
      "\n",
      "    accuracy                           0.83     11253\n",
      "   macro avg       0.73      0.66      0.68     11253\n",
      "weighted avg       0.81      0.83      0.82     11253\n",
      "\n",
      "-------------------------------------------------------------\n",
      "Isolation Forest:12269\n",
      "Accuracy Score: 0.6729138896294321\n",
      "              precision    recall  f1-score   support\n",
      "\n",
      "       False       0.82      0.77      0.79     30400\n",
      "        True       0.21      0.25      0.23      7110\n",
      "\n",
      "    accuracy                           0.67     37510\n",
      "   macro avg       0.51      0.51      0.51     37510\n",
      "weighted avg       0.70      0.67      0.69     37510\n",
      "\n",
      "-------------------------------------------------------------\n",
      "Ada Boost Classifier:1796\n",
      "Accuracy Score: 0.8403981160579401\n",
      "              precision    recall  f1-score   support\n",
      "\n",
      "       False       0.85      0.97      0.91      9104\n",
      "        True       0.70      0.29      0.41      2149\n",
      "\n",
      "    accuracy                           0.84     11253\n",
      "   macro avg       0.78      0.63      0.66     11253\n",
      "weighted avg       0.82      0.84      0.81     11253\n",
      "\n",
      "-------------------------------------------------------------\n",
      "Random Forest Classifier:289\n",
      "Accuracy Score: 0.9743179596552031\n",
      "              precision    recall  f1-score   support\n",
      "\n",
      "       False       0.99      0.98      0.98      9104\n",
      "        True       0.91      0.96      0.93      2149\n",
      "\n",
      "    accuracy                           0.97     11253\n",
      "   macro avg       0.95      0.97      0.96     11253\n",
      "weighted avg       0.98      0.97      0.97     11253\n",
      "\n",
      "-------------------------------------------------------------\n",
      "KNeighbors Classifier:2166\n",
      "Accuracy Score: 0.8075179952012796\n",
      "              precision    recall  f1-score   support\n",
      "\n",
      "       False       0.85      0.93      0.89      9104\n",
      "        True       0.49      0.30      0.37      2149\n",
      "\n",
      "    accuracy                           0.81     11253\n",
      "   macro avg       0.67      0.61      0.63     11253\n",
      "weighted avg       0.78      0.81      0.79     11253\n",
      "\n",
      "-------------------------------------------------------------\n"
     ]
    }
   ],
   "source": [
    "#fitting, training and evaluating each algorithm \n",
    "n_outliers = len(fraud)\n",
    "\n",
    "for i, (clf_name, clf) in enumerate(classifiers.items()):\n",
    "   \n",
    "    if clf_name == 'Local Outlier Factor':\n",
    "        y_pred = clf.fit_predict(X)\n",
    "        y_pred[y_pred ==1]=0\n",
    "        y_pred[y_pred ==-1]=1\n",
    "        n_errors = (y_pred !=y).sum()\n",
    "        print('{}:{}'.format(clf_name,n_errors))\n",
    "        print('Accuracy Score:',accuracy_score(y, y_pred))\n",
    "        print(classification_report(y, y_pred))\n",
    "        classifier_accuracy.update({clf_name:accuracy_score(y, y_pred)})\n",
    "    \n",
    "    \n",
    "    elif clf_name == 'Support Vector Machine':\n",
    "        clf.fit(X)\n",
    "        y_pred = clf.predict(X)\n",
    "        y_pred[y_pred ==1]=0\n",
    "        y_pred[y_pred ==-1]=1\n",
    "        n_errors = (y_pred !=y).sum()\n",
    "        print('{}:{}'.format(clf_name,n_errors))\n",
    "        print('Accuracy Score:',accuracy_score(y, y_pred))\n",
    "        print(classification_report(y, y_pred))\n",
    "        classifier_accuracy.update({clf_name:accuracy_score(y, y_pred)})\n",
    "    \n",
    "    \n",
    "    \n",
    "    elif clf_name == 'Decision Tree Classifier':\n",
    "        X_train, X_test, y_train, y_test = train_test_split(X, y, random_state=1, test_size=0.3)\n",
    "        clf = clf.fit(X_train, y_train)\n",
    "        y_pred = clf.predict(X_test)\n",
    "        n_errors = (y_pred !=y_test).sum()\n",
    "        print('{}:{}'.format(clf_name,n_errors))\n",
    "        print('Accuracy Score:',accuracy_score(y_test, y_pred))\n",
    "        print(classification_report(y_test, y_pred))\n",
    "        classifier_accuracy.update({clf_name:accuracy_score(y_test, y_pred)})\n",
    "        #exporting the prefered model\n",
    "        joblib.dump(clf,'fraud_detection_model.pkl')\n",
    "        x = clf\n",
    "    \n",
    "    elif clf_name == 'Ada Boost Classifier':\n",
    "        X_train, X_test, y_train, y_test = train_test_split(X, y, random_state=1, test_size=0.3)\n",
    "        clf = clf.fit(X_train, y_train)\n",
    "        y_pred = clf.predict(X_test)\n",
    "        n_errors = (y_pred !=y_test).sum()\n",
    "        print('{}:{}'.format(clf_name,n_errors))\n",
    "        print('Accuracy Score:',accuracy_score(y_test, y_pred))\n",
    "        print(classification_report(y_test, y_pred))\n",
    "        classifier_accuracy.update({clf_name:accuracy_score(y_test, y_pred)})\n",
    "\n",
    "        \n",
    "    elif clf_name == 'Random Forest Classifier':\n",
    "        X_train, X_test, y_train, y_test = train_test_split(X, y, random_state=1, test_size=0.3)\n",
    "        clf = DecisionTreeClassifier()\n",
    "        clf = clf.fit(X_train, y_train)\n",
    "        y_pred = clf.predict(X_test)\n",
    "        n_errors = (y_pred !=y_test).sum()\n",
    "        print('{}:{}'.format(clf_name,n_errors))\n",
    "        print('Accuracy Score:',accuracy_score(y_test, y_pred))\n",
    "        print(classification_report(y_test, y_pred))\n",
    "        classifier_accuracy.update({clf_name:accuracy_score(y_test, y_pred)})\n",
    "\n",
    "    elif clf_name == 'KNeighbors Classifier':\n",
    "        X_train, X_test, y_train, y_test = train_test_split(X, y, random_state=1, test_size=0.3)\n",
    "        clf = clf.fit(X_train, y_train)\n",
    "        y_pred = clf.predict(X_test)\n",
    "        n_errors = (y_pred !=y_test).sum()\n",
    "        print('{}:{}'.format(clf_name,n_errors))\n",
    "        print('Accuracy Score:',accuracy_score(y_test, y_pred))\n",
    "        print(classification_report(y_test, y_pred))\n",
    "        classifier_accuracy.update({clf_name:accuracy_score(y_test, y_pred)})\n",
    "        \n",
    "    else:\n",
    "        clf.fit(X)\n",
    "        score_pred = clf.decision_function(X)\n",
    "        y_pred = clf.predict(X)\n",
    "        y_pred[y_pred ==1]=0\n",
    "        y_pred[y_pred ==-1]=1\n",
    "        n_errors = (y_pred !=y).sum()\n",
    "        print('{}:{}'.format(clf_name,n_errors))\n",
    "        print('Accuracy Score:',accuracy_score(y, y_pred))\n",
    "        print(classification_report(y, y_pred))\n",
    "        classifier_accuracy.update({clf_name:accuracy_score(y, y_pred)})\n",
    "    print('-------------------------------------------------------------')"
   ]
  },
  {
   "cell_type": "code",
   "execution_count": 47,
   "metadata": {
    "scrolled": true
   },
   "outputs": [
    {
     "data": {
      "text/html": [
       "<div>\n",
       "<style scoped>\n",
       "    .dataframe tbody tr th:only-of-type {\n",
       "        vertical-align: middle;\n",
       "    }\n",
       "\n",
       "    .dataframe tbody tr th {\n",
       "        vertical-align: top;\n",
       "    }\n",
       "\n",
       "    .dataframe thead th {\n",
       "        text-align: right;\n",
       "    }\n",
       "</style>\n",
       "<table border=\"1\" class=\"dataframe\">\n",
       "  <thead>\n",
       "    <tr style=\"text-align: right;\">\n",
       "      <th></th>\n",
       "      <th>Classifier</th>\n",
       "      <th>Accuracy</th>\n",
       "    </tr>\n",
       "  </thead>\n",
       "  <tbody>\n",
       "    <tr>\n",
       "      <th>0</th>\n",
       "      <td>Local Outlier Factor</td>\n",
       "      <td>0.667049</td>\n",
       "    </tr>\n",
       "    <tr>\n",
       "      <th>1</th>\n",
       "      <td>Support Vector Machine</td>\n",
       "      <td>0.775820</td>\n",
       "    </tr>\n",
       "    <tr>\n",
       "      <th>2</th>\n",
       "      <td>Decision Tree Classifier</td>\n",
       "      <td>0.831423</td>\n",
       "    </tr>\n",
       "    <tr>\n",
       "      <th>3</th>\n",
       "      <td>Isolation Forest</td>\n",
       "      <td>0.672914</td>\n",
       "    </tr>\n",
       "    <tr>\n",
       "      <th>4</th>\n",
       "      <td>Ada Boost Classifier</td>\n",
       "      <td>0.840398</td>\n",
       "    </tr>\n",
       "    <tr>\n",
       "      <th>5</th>\n",
       "      <td>Random Forest Classifier</td>\n",
       "      <td>0.974051</td>\n",
       "    </tr>\n",
       "    <tr>\n",
       "      <th>6</th>\n",
       "      <td>KNeighbors Classifier</td>\n",
       "      <td>0.807518</td>\n",
       "    </tr>\n",
       "  </tbody>\n",
       "</table>\n",
       "</div>"
      ],
      "text/plain": [
       "                 Classifier  Accuracy\n",
       "0      Local Outlier Factor  0.667049\n",
       "1    Support Vector Machine  0.775820\n",
       "2  Decision Tree Classifier  0.831423\n",
       "3          Isolation Forest  0.672914\n",
       "4      Ada Boost Classifier  0.840398\n",
       "5  Random Forest Classifier  0.974051\n",
       "6     KNeighbors Classifier  0.807518"
      ]
     },
     "execution_count": 47,
     "metadata": {},
     "output_type": "execute_result"
    }
   ],
   "source": [
    "#creating a table of classifiers and thier accuracy\n",
    "ca = [[a,b] for a,b in classifier_accuracy.items()]\n",
    "ca = pd.DataFrame(ca, columns=['Classifier','Accuracy'])\n",
    "ca\n"
   ]
  },
  {
   "cell_type": "code",
   "execution_count": 49,
   "metadata": {
    "scrolled": true
   },
   "outputs": [
    {
     "data": {
      "image/png": "[encoded data removed]",
      "text/plain": [
       "<Figure size 792x720 with 1 Axes>"
      ]
     },
     "metadata": {
      "needs_background": "light"
     },
     "output_type": "display_data"
    }
   ],
   "source": [
    "#plotting classifiers and thier accuracy\n",
    "import seaborn as sns\n",
    "sns.set_color_codes('muted')\n",
    "sns.barplot(x='Accuracy', y='Classifier', data=ca, color='g')\n",
    "plt.xlabel('Accuracy %')\n",
    "plt.ylabel('Classifier ')\n",
    "plt.title('Classifier Accuracy')\n",
    "plt.show()"
   ]
  },
  {
   "cell_type": "code",
   "execution_count": null,
   "metadata": {},
   "outputs": [],
   "source": []
  },
  {
   "cell_type": "code",
   "execution_count": null,
   "metadata": {},
   "outputs": [],
   "source": []
  }
 ],
 "metadata": {
  "kernelspec": {
   "display_name": "Python 3",
   "language": "python",
   "name": "python3"
  },
  "language_info": {
   "codemirror_mode": {
    "name": "ipython",
    "version": 3
   },
   "file_extension": ".py",
   "mimetype": "text/x-python",
   "name": "python",
   "nbconvert_exporter": "python",
   "pygments_lexer": "ipython3",
   "version": "3.8.0"
  }
 },
 "nbformat": 4,
 "nbformat_minor": 4
}
